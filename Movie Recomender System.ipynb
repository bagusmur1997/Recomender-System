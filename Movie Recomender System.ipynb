{
 "cells": [
  {
   "cell_type": "markdown",
   "id": "ae7bba5a",
   "metadata": {},
   "source": [
    "<a id=\"1\"></a>\n",
    "<font color=\"darkslateblue\" size=+2.5><b>1. Introduction</b></font>"
   ]
  },
  {
   "cell_type": "markdown",
   "id": "f387aae1",
   "metadata": {},
   "source": [
    "In today's world of entertainment, movies have a big impact on how we see the world and feel. But with so many movies out there in different types, on different platforms, and in different languages, it's hard to pick a movie that we'll actually like. This can make choosing a movie frustrating and take up a lot of time.\n",
    "\n",
    "Having lots of movies on streaming platforms is also a problem for both viewers and the platforms themselves. People find it tough to find a movie they'll enjoy in the sea of options. And the platforms miss out on making money if people don't stick around to watch more. If the recommendations aren't good, people might stop using the platform. So, it's really important for platforms to have smart movie recommendation systems. These systems help with technology and also with making money.\n",
    "\n",
    "A Machine Learning Recommender System is a special tool that uses data to give personalized movie suggestions. This makes users happy and keeps them coming back. It also helps platforms by suggesting movies that people are more likely to watch. This way, they can show ads or promote movies more effectively. For businesses, the primary objective is to increase user engagement and maximize revenue through targeted promotions and advertisements.\n",
    "\n",
    "For users, it's like having a friend who knows what kind of movies you like, saving you from wasting time trying out movies you won't enjoy. This is super important in the digital age when there are so many movies to choose from. The objective here is to enhance the user's experience by providing personalized, relevant, and high-quality movie recommendations that align with their preferences and watching history.\n",
    "\n",
    "This system looks at different things to figure out what movies to suggest. It looks at your profile, like your age, gender, and what you've watched before. It also looks at the details of the movies, like the type, director, actors, reviews, and ratings. The system even checks how you behave on the platform, like what you click on and how long you watch. It also considers things like which movies are popular right now or have won awards.\n",
    "\n",
    "What you get from this system are recommendations that match what you like and do. It also guesses how much you might like a movie. It explains why it's suggesting a movie, and if you don't like the first idea, it gives you other suggestions to try.\n",
    "\n",
    "A Machine Learning Recommender System is like a helpful tool for both people and platforms in the world of picking movies today. By using fancy computer methods and lots of data, this system aims to elevate user satisfaction and drive business success by fine-tuning the movie discovery process.\n",
    "\n",
    "In this article, we will delve deeper into the intricacies of a Machine Learning Recommender System designed to address the challenges outlined above. We will explore various algorithms and techniques that power these systems, such as collaborative filtering, content-based filtering, and hybrid models that blend the strengths of both approaches. Moreover, we will examine how the system incorporates additional layers of personalization through features like weighted scores, genre-specific recommendations, and real-time adaptability based on user behavior.\n",
    "\n",
    "We will also discuss the practical implications of implementing this system. For instance, how it serves as a solution for businesses to retain customers and for users to streamline their movie selection process. Additionally, we will touch upon how the system can cater to various scenarios like group recommendations and cold starts for new users. Special attention will be paid to evaluating the performance of the system, as we look at metrics such as RMSE (Root Mean Square Error) and MAE (Mean Absolute Error) to understand the system's accuracy and reliability.\n",
    "\n",
    "By the end of this article, the aim is to provide a comprehensive understanding of how a Machine Learning Recommender System can revolutionize the way we discover and enjoy movies. It not only makes the movie-watching experience more enjoyable for users but also serves as a powerful tool for businesses in the entertainment industry to optimize user engagement and revenue generation. So, let's embark on this journey to unravel the magic behind smart movie recommendations."
   ]
  },
  {
   "cell_type": "markdown",
   "id": "d448c176",
   "metadata": {},
   "source": [
    "<a id=\"2\"></a>\n",
    "<font color=\"darkslateblue\" size=+2.5><b>2. Dataset and Features Description</b></font>\n",
    "\n",
    "---\n",
    "\n",
    "### Ratings Dataset (`ratings_small.csv`)\n",
    "\n",
    "This dataset serves as the **backbone for building robust movie recommender systems**, capturing user ratings for different movies.\n",
    "\n",
    "- **Columns**:\n",
    "  - **`userId`**: Unique identifier for each user, crucial for tracking individual rating behaviors.\n",
    "  - **`movieId`**: Unique identifier for each movie, linking the ratings to specific movies.\n",
    "  - **`rating`**: The rating score given by the user to a movie, usually on a scale like 0.5-5 or 1-10.\n",
    "  - **`timestamp`**: Records the time when the rating was given, valuable for generating time-sensitive recommendations.\n",
    "\n",
    "---\n",
    "\n",
    "### Movies Dataset (`movies.csv`)\n",
    "\n",
    "A **comprehensive collection of movie metadata** that includes a variety of features ranging from the film's title and tagline to its runtime and revenue.\n",
    "\n",
    "- **Columns**:\n",
    "  - **`id`**: Unique identifier for each movie.\n",
    "  - **`genres`**: Categorizes each movie into one or multiple genres.\n",
    "  - **`title`**: The official title of the movie.\n",
    "  - **`overview`**: A brief description or synopsis of the movie.\n",
    "  - **`revenue`**: Financial earnings from box office and other sources.\n",
    "  - **`vote_average`**: The average rating given by viewers.\n",
    "  - **`vote_count`**: The total number of ratings the movie has received.\n",
    "  - **other**\n",
    "\n",
    "---\n",
    "\n",
    "### Keywords Dataset (`keywords.csv`)\n",
    "\n",
    "This dataset **enriches the movies with a list of key phrases and words** that contains a list of words or phrases that summarize the themes or unique features of each movies. These keywords can serve quick references to understand the main topic of the movies, plot elements, or unique feature of each movies.\n",
    "\n",
    "- **Columns**:\n",
    "  - **`id`**: Unique identifier that links back to the movies dataset.\n",
    "  - **`keywords`**: A collection of words or phrases summarizing the movie's essence, used for content-based filtering and search features.\n",
    "  \n",
    "---\n",
    "\n",
    "### Credits Dataset (`credits.csv`)\n",
    "\n",
    "Holds **detailed information about the cast and crew** involved in each movie, providing an in-depth look at the people behind the production.\n",
    "\n",
    "- **Columns**:\n",
    "  - **`id`**: Unique identifier that can be used to merge with the movies dataset.\n",
    "  - **`cast`**: Lists the actors and their roles, valuable for actor-based recommendations.\n",
    "  - **`crew`**: Specifies the personnel involved in various aspects of production, such as directing and writing, useful for director- or writer-based recommendations.\n",
    "\n",
    "---\n"
   ]
  },
  {
   "cell_type": "markdown",
   "id": "ca443f0a",
   "metadata": {},
   "source": [
    "<a id=\"3\"></a>\n",
    "<font color=\"darkslateblue\" size=+2.5><b>3. Data Preprocessing</b></font>"
   ]
  },
  {
   "cell_type": "code",
   "execution_count": 19,
   "id": "2cd3d370",
   "metadata": {},
   "outputs": [],
   "source": [
    "# Data Manipulation\n",
    "import pandas as pd\n",
    "import numpy as np\n",
    "\n",
    "# Data Visualization\n",
    "import seaborn as sns\n",
    "import matplotlib.pyplot as plt\n",
    "\n",
    "# Utilities\n",
    "from ast import literal_eval\n",
    "from collections import Counter\n",
    "import datetime\n",
    "\n",
    "# Scikit-learn\n",
    "from sklearn.model_selection import train_test_split\n",
    "from sklearn.metrics import mean_squared_error\n",
    "from sklearn.preprocessing import MinMaxScaler\n",
    "from sklearn.feature_extraction.text import CountVectorizer\n",
    "from sklearn.metrics.pairwise import cosine_similarity\n",
    "\n",
    "# Surprise Library\n",
    "from surprise import (Reader, Dataset, SVD, SVDpp, KNNBasic, NMF, CoClustering, SlopeOne,\n",
    "                      NormalPredictor, KNNBaseline, KNNWithMeans, KNNWithZScore, BaselineOnly,\n",
    "                      accuracy, accuracy)\n",
    "from surprise.model_selection import cross_validate\n",
    "from surprise.model_selection import GridSearchCV\n"
   ]
  },
  {
   "cell_type": "code",
   "execution_count": 20,
   "id": "f95639c6",
   "metadata": {},
   "outputs": [
    {
     "name": "stderr",
     "output_type": "stream",
     "text": [
      "C:\\Users\\bmurdyantoro\\AppData\\Local\\Temp\\ipykernel_5076\\317922346.py:2: DtypeWarning: Columns (10) have mixed types. Specify dtype option on import or set low_memory=False.\n",
      "  movies_df = pd.read_csv(\"C:/Users/bmurdyantoro/OneDrive - Zuellig Pharma Holdings Pte Ltd/Documents/Pacman Cource/Recomender System/The Movies Dataset 2/movies_metadata.csv\")\n"
     ]
    }
   ],
   "source": [
    "#Read Data Set\n",
    "movies_df = pd.read_csv(\"C:/Users/bmurdyantoro/OneDrive - Zuellig Pharma Holdings Pte Ltd/Documents/Pacman Cource/Recomender System/The Movies Dataset 2/movies_metadata.csv\")\n",
    "keywords_df = pd.read_csv(\"C:/Users/bmurdyantoro/OneDrive - Zuellig Pharma Holdings Pte Ltd/Documents/Pacman Cource/Recomender System/The Movies Dataset 2/keywords.csv\")\n",
    "credits_df = pd.read_csv(\"C:/Users/bmurdyantoro/OneDrive - Zuellig Pharma Holdings Pte Ltd/Documents/Pacman Cource/Recomender System/The Movies Dataset 2/credits.csv\")\n",
    "ratings_df = pd.read_csv(\"C:/Users/bmurdyantoro/OneDrive - Zuellig Pharma Holdings Pte Ltd/Documents/Pacman Cource/Recomender System/The Movies Dataset 2/ratings_small.csv\")"
   ]
  },
  {
   "cell_type": "markdown",
   "id": "c0fe7408",
   "metadata": {},
   "source": [
    "#### 3.1 Merge DataFrames for Comprehensive Data\n",
    "\n",
    "In this step, our aim is to create a unified DataFrame that encapsulates all the relevant information we have. To achieve this, we'll perform the following actions:\n",
    "\n",
    "1. **Base DataFrame**: Start with `movies_df`, which contains core details about each movie.\n",
    "2. **Additional Data**: Use `keywords_df` and `credits_df` to supplement this information.\n",
    "3. **Merging Criteria**: Link these DataFrames using the unique movie IDs as the common key.\n",
    "\n",
    "By merging these DataFrames, we'll establish a more holistic dataset, facilitating a richer analysis and more accurate modeling in subsequent steps.\n"
   ]
  },
  {
   "cell_type": "code",
   "execution_count": 21,
   "id": "92da7e3d",
   "metadata": {},
   "outputs": [],
   "source": [
    "movies_df = movies_df[~(movies_df['id'].str.contains('-'))]\n",
    "movies_df['id'] = movies_df['id'].astype('int64')\n",
    "movies_df = pd.merge(movies_df, keywords_df, on='id', how='left')\n",
    "movies_df = pd.merge(movies_df, credits_df, on='id', how='left')"
   ]
  },
  {
   "cell_type": "code",
   "execution_count": 22,
   "id": "7df63f69",
   "metadata": {},
   "outputs": [],
   "source": [
    "del keywords_df\n",
    "del credits_df"
   ]
  },
  {
   "cell_type": "markdown",
   "id": "55189b5e",
   "metadata": {},
   "source": [
    "#### 3.2 Handle Missing Values\n",
    "\n",
    "After merging the data, the next crucial step is to deal with missing values. Handling these correctly ensures that our analysis and models are accurate and reliable.\n"
   ]
  },
  {
   "cell_type": "code",
   "execution_count": 23,
   "id": "8a5ebb17",
   "metadata": {},
   "outputs": [
    {
     "data": {
      "text/plain": [
       "adult                        0\n",
       "belongs_to_collection    42055\n",
       "budget                       0\n",
       "genres                       0\n",
       "homepage                 38620\n",
       "id                           0\n",
       "imdb_id                     17\n",
       "original_language           11\n",
       "original_title               0\n",
       "overview                   995\n",
       "popularity                   4\n",
       "poster_path                399\n",
       "production_companies         4\n",
       "production_countries         4\n",
       "release_date                88\n",
       "revenue                      4\n",
       "runtime                    268\n",
       "spoken_languages             4\n",
       "status                      86\n",
       "tagline                  25846\n",
       "title                        4\n",
       "video                        4\n",
       "vote_average                 4\n",
       "vote_count                   4\n",
       "keywords                     1\n",
       "cast                         1\n",
       "crew                         1\n",
       "dtype: int64"
      ]
     },
     "execution_count": 23,
     "metadata": {},
     "output_type": "execute_result"
    }
   ],
   "source": [
    "# Checking for Missing Values\n",
    "movies_df.isnull().sum()"
   ]
  },
  {
   "cell_type": "markdown",
   "id": "4e1b7fc9",
   "metadata": {},
   "source": [
    "To ensure the quality of our recommendation model, it's essential to handle missing values effectively. Here's our strategy:\n",
    "\n",
    "1. **Drop Unnecessary Columns**: Certain columns, like `'belongs_to_collection'`, `'homepage'`, `'imdb_id'`, `'poster_path'`, `'status'`, and `'video'`, don't provide useful information for our model. We remove them.\n",
    "    \n",
    "2. **Handle Text-Based Columns**: Some columns contain text data, such as `'tagline'`, `'original_language'`, and `'keywords'`. Missing values in these columns are replaced with an empty string.\n",
    "3. **Handle Numerical Columns**: For numerical columns like `'runtime'`, we replace missing values with 0 to avoid skewing our analysis.\n",
    "\n",
    "By following these steps, we clean our dataset and make it ready for building a robust recommendation model.\n"
   ]
  },
  {
   "cell_type": "code",
   "execution_count": 24,
   "id": "67c5a5ea",
   "metadata": {},
   "outputs": [
    {
     "data": {
      "text/html": [
       "<div>\n",
       "<style scoped>\n",
       "    .dataframe tbody tr th:only-of-type {\n",
       "        vertical-align: middle;\n",
       "    }\n",
       "\n",
       "    .dataframe tbody tr th {\n",
       "        vertical-align: top;\n",
       "    }\n",
       "\n",
       "    .dataframe thead th {\n",
       "        text-align: right;\n",
       "    }\n",
       "</style>\n",
       "<table border=\"1\" class=\"dataframe\">\n",
       "  <thead>\n",
       "    <tr style=\"text-align: right;\">\n",
       "      <th></th>\n",
       "      <th>adult</th>\n",
       "      <th>budget</th>\n",
       "      <th>genres</th>\n",
       "      <th>id</th>\n",
       "      <th>original_language</th>\n",
       "      <th>original_title</th>\n",
       "      <th>overview</th>\n",
       "      <th>popularity</th>\n",
       "      <th>production_companies</th>\n",
       "      <th>production_countries</th>\n",
       "      <th>...</th>\n",
       "      <th>revenue</th>\n",
       "      <th>runtime</th>\n",
       "      <th>spoken_languages</th>\n",
       "      <th>tagline</th>\n",
       "      <th>title</th>\n",
       "      <th>vote_average</th>\n",
       "      <th>vote_count</th>\n",
       "      <th>keywords</th>\n",
       "      <th>cast</th>\n",
       "      <th>crew</th>\n",
       "    </tr>\n",
       "  </thead>\n",
       "  <tbody>\n",
       "    <tr>\n",
       "      <th>0</th>\n",
       "      <td>False</td>\n",
       "      <td>30000000</td>\n",
       "      <td>[{'id': 16, 'name': 'Animation'}, {'id': 35, '...</td>\n",
       "      <td>862</td>\n",
       "      <td>en</td>\n",
       "      <td>Toy Story</td>\n",
       "      <td>Led by Woody, Andy's toys live happily in his ...</td>\n",
       "      <td>21.946943</td>\n",
       "      <td>[{'name': 'Pixar Animation Studios', 'id': 3}]</td>\n",
       "      <td>[{'iso_3166_1': 'US', 'name': 'United States o...</td>\n",
       "      <td>...</td>\n",
       "      <td>373554033.0</td>\n",
       "      <td>81.0</td>\n",
       "      <td>[{'iso_639_1': 'en', 'name': 'English'}]</td>\n",
       "      <td></td>\n",
       "      <td>Toy Story</td>\n",
       "      <td>7.7</td>\n",
       "      <td>5415.0</td>\n",
       "      <td>[{'id': 931, 'name': 'jealousy'}, {'id': 4290,...</td>\n",
       "      <td>[{'cast_id': 14, 'character': 'Woody (voice)',...</td>\n",
       "      <td>[{'credit_id': '52fe4284c3a36847f8024f49', 'de...</td>\n",
       "    </tr>\n",
       "    <tr>\n",
       "      <th>1</th>\n",
       "      <td>False</td>\n",
       "      <td>65000000</td>\n",
       "      <td>[{'id': 12, 'name': 'Adventure'}, {'id': 14, '...</td>\n",
       "      <td>8844</td>\n",
       "      <td>en</td>\n",
       "      <td>Jumanji</td>\n",
       "      <td>When siblings Judy and Peter discover an encha...</td>\n",
       "      <td>17.015539</td>\n",
       "      <td>[{'name': 'TriStar Pictures', 'id': 559}, {'na...</td>\n",
       "      <td>[{'iso_3166_1': 'US', 'name': 'United States o...</td>\n",
       "      <td>...</td>\n",
       "      <td>262797249.0</td>\n",
       "      <td>104.0</td>\n",
       "      <td>[{'iso_639_1': 'en', 'name': 'English'}, {'iso...</td>\n",
       "      <td>Roll the dice and unleash the excitement!</td>\n",
       "      <td>Jumanji</td>\n",
       "      <td>6.9</td>\n",
       "      <td>2413.0</td>\n",
       "      <td>[{'id': 10090, 'name': 'board game'}, {'id': 1...</td>\n",
       "      <td>[{'cast_id': 1, 'character': 'Alan Parrish', '...</td>\n",
       "      <td>[{'credit_id': '52fe44bfc3a36847f80a7cd1', 'de...</td>\n",
       "    </tr>\n",
       "    <tr>\n",
       "      <th>2</th>\n",
       "      <td>False</td>\n",
       "      <td>0</td>\n",
       "      <td>[{'id': 10749, 'name': 'Romance'}, {'id': 35, ...</td>\n",
       "      <td>15602</td>\n",
       "      <td>en</td>\n",
       "      <td>Grumpier Old Men</td>\n",
       "      <td>A family wedding reignites the ancient feud be...</td>\n",
       "      <td>11.7129</td>\n",
       "      <td>[{'name': 'Warner Bros.', 'id': 6194}, {'name'...</td>\n",
       "      <td>[{'iso_3166_1': 'US', 'name': 'United States o...</td>\n",
       "      <td>...</td>\n",
       "      <td>0.0</td>\n",
       "      <td>101.0</td>\n",
       "      <td>[{'iso_639_1': 'en', 'name': 'English'}]</td>\n",
       "      <td>Still Yelling. Still Fighting. Still Ready for...</td>\n",
       "      <td>Grumpier Old Men</td>\n",
       "      <td>6.5</td>\n",
       "      <td>92.0</td>\n",
       "      <td>[{'id': 1495, 'name': 'fishing'}, {'id': 12392...</td>\n",
       "      <td>[{'cast_id': 2, 'character': 'Max Goldman', 'c...</td>\n",
       "      <td>[{'credit_id': '52fe466a9251416c75077a89', 'de...</td>\n",
       "    </tr>\n",
       "    <tr>\n",
       "      <th>3</th>\n",
       "      <td>False</td>\n",
       "      <td>16000000</td>\n",
       "      <td>[{'id': 35, 'name': 'Comedy'}, {'id': 18, 'nam...</td>\n",
       "      <td>31357</td>\n",
       "      <td>en</td>\n",
       "      <td>Waiting to Exhale</td>\n",
       "      <td>Cheated on, mistreated and stepped on, the wom...</td>\n",
       "      <td>3.859495</td>\n",
       "      <td>[{'name': 'Twentieth Century Fox Film Corporat...</td>\n",
       "      <td>[{'iso_3166_1': 'US', 'name': 'United States o...</td>\n",
       "      <td>...</td>\n",
       "      <td>81452156.0</td>\n",
       "      <td>127.0</td>\n",
       "      <td>[{'iso_639_1': 'en', 'name': 'English'}]</td>\n",
       "      <td>Friends are the people who let you be yourself...</td>\n",
       "      <td>Waiting to Exhale</td>\n",
       "      <td>6.1</td>\n",
       "      <td>34.0</td>\n",
       "      <td>[{'id': 818, 'name': 'based on novel'}, {'id':...</td>\n",
       "      <td>[{'cast_id': 1, 'character': \"Savannah 'Vannah...</td>\n",
       "      <td>[{'credit_id': '52fe44779251416c91011acb', 'de...</td>\n",
       "    </tr>\n",
       "    <tr>\n",
       "      <th>4</th>\n",
       "      <td>False</td>\n",
       "      <td>0</td>\n",
       "      <td>[{'id': 35, 'name': 'Comedy'}]</td>\n",
       "      <td>11862</td>\n",
       "      <td>en</td>\n",
       "      <td>Father of the Bride Part II</td>\n",
       "      <td>Just when George Banks has recovered from his ...</td>\n",
       "      <td>8.387519</td>\n",
       "      <td>[{'name': 'Sandollar Productions', 'id': 5842}...</td>\n",
       "      <td>[{'iso_3166_1': 'US', 'name': 'United States o...</td>\n",
       "      <td>...</td>\n",
       "      <td>76578911.0</td>\n",
       "      <td>106.0</td>\n",
       "      <td>[{'iso_639_1': 'en', 'name': 'English'}]</td>\n",
       "      <td>Just When His World Is Back To Normal... He's ...</td>\n",
       "      <td>Father of the Bride Part II</td>\n",
       "      <td>5.7</td>\n",
       "      <td>173.0</td>\n",
       "      <td>[{'id': 1009, 'name': 'baby'}, {'id': 1599, 'n...</td>\n",
       "      <td>[{'cast_id': 1, 'character': 'George Banks', '...</td>\n",
       "      <td>[{'credit_id': '52fe44959251416c75039ed7', 'de...</td>\n",
       "    </tr>\n",
       "  </tbody>\n",
       "</table>\n",
       "<p>5 rows × 21 columns</p>\n",
       "</div>"
      ],
      "text/plain": [
       "   adult    budget                                             genres     id  \\\n",
       "0  False  30000000  [{'id': 16, 'name': 'Animation'}, {'id': 35, '...    862   \n",
       "1  False  65000000  [{'id': 12, 'name': 'Adventure'}, {'id': 14, '...   8844   \n",
       "2  False         0  [{'id': 10749, 'name': 'Romance'}, {'id': 35, ...  15602   \n",
       "3  False  16000000  [{'id': 35, 'name': 'Comedy'}, {'id': 18, 'nam...  31357   \n",
       "4  False         0                     [{'id': 35, 'name': 'Comedy'}]  11862   \n",
       "\n",
       "  original_language               original_title  \\\n",
       "0                en                    Toy Story   \n",
       "1                en                      Jumanji   \n",
       "2                en             Grumpier Old Men   \n",
       "3                en            Waiting to Exhale   \n",
       "4                en  Father of the Bride Part II   \n",
       "\n",
       "                                            overview popularity  \\\n",
       "0  Led by Woody, Andy's toys live happily in his ...  21.946943   \n",
       "1  When siblings Judy and Peter discover an encha...  17.015539   \n",
       "2  A family wedding reignites the ancient feud be...    11.7129   \n",
       "3  Cheated on, mistreated and stepped on, the wom...   3.859495   \n",
       "4  Just when George Banks has recovered from his ...   8.387519   \n",
       "\n",
       "                                production_companies  \\\n",
       "0     [{'name': 'Pixar Animation Studios', 'id': 3}]   \n",
       "1  [{'name': 'TriStar Pictures', 'id': 559}, {'na...   \n",
       "2  [{'name': 'Warner Bros.', 'id': 6194}, {'name'...   \n",
       "3  [{'name': 'Twentieth Century Fox Film Corporat...   \n",
       "4  [{'name': 'Sandollar Productions', 'id': 5842}...   \n",
       "\n",
       "                                production_countries  ...      revenue  \\\n",
       "0  [{'iso_3166_1': 'US', 'name': 'United States o...  ...  373554033.0   \n",
       "1  [{'iso_3166_1': 'US', 'name': 'United States o...  ...  262797249.0   \n",
       "2  [{'iso_3166_1': 'US', 'name': 'United States o...  ...          0.0   \n",
       "3  [{'iso_3166_1': 'US', 'name': 'United States o...  ...   81452156.0   \n",
       "4  [{'iso_3166_1': 'US', 'name': 'United States o...  ...   76578911.0   \n",
       "\n",
       "   runtime                                   spoken_languages  \\\n",
       "0     81.0           [{'iso_639_1': 'en', 'name': 'English'}]   \n",
       "1    104.0  [{'iso_639_1': 'en', 'name': 'English'}, {'iso...   \n",
       "2    101.0           [{'iso_639_1': 'en', 'name': 'English'}]   \n",
       "3    127.0           [{'iso_639_1': 'en', 'name': 'English'}]   \n",
       "4    106.0           [{'iso_639_1': 'en', 'name': 'English'}]   \n",
       "\n",
       "                                             tagline  \\\n",
       "0                                                      \n",
       "1          Roll the dice and unleash the excitement!   \n",
       "2  Still Yelling. Still Fighting. Still Ready for...   \n",
       "3  Friends are the people who let you be yourself...   \n",
       "4  Just When His World Is Back To Normal... He's ...   \n",
       "\n",
       "                         title vote_average  vote_count  \\\n",
       "0                    Toy Story          7.7      5415.0   \n",
       "1                      Jumanji          6.9      2413.0   \n",
       "2             Grumpier Old Men          6.5        92.0   \n",
       "3            Waiting to Exhale          6.1        34.0   \n",
       "4  Father of the Bride Part II          5.7       173.0   \n",
       "\n",
       "                                            keywords  \\\n",
       "0  [{'id': 931, 'name': 'jealousy'}, {'id': 4290,...   \n",
       "1  [{'id': 10090, 'name': 'board game'}, {'id': 1...   \n",
       "2  [{'id': 1495, 'name': 'fishing'}, {'id': 12392...   \n",
       "3  [{'id': 818, 'name': 'based on novel'}, {'id':...   \n",
       "4  [{'id': 1009, 'name': 'baby'}, {'id': 1599, 'n...   \n",
       "\n",
       "                                                cast  \\\n",
       "0  [{'cast_id': 14, 'character': 'Woody (voice)',...   \n",
       "1  [{'cast_id': 1, 'character': 'Alan Parrish', '...   \n",
       "2  [{'cast_id': 2, 'character': 'Max Goldman', 'c...   \n",
       "3  [{'cast_id': 1, 'character': \"Savannah 'Vannah...   \n",
       "4  [{'cast_id': 1, 'character': 'George Banks', '...   \n",
       "\n",
       "                                                crew  \n",
       "0  [{'credit_id': '52fe4284c3a36847f8024f49', 'de...  \n",
       "1  [{'credit_id': '52fe44bfc3a36847f80a7cd1', 'de...  \n",
       "2  [{'credit_id': '52fe466a9251416c75077a89', 'de...  \n",
       "3  [{'credit_id': '52fe44779251416c91011acb', 'de...  \n",
       "4  [{'credit_id': '52fe44959251416c75039ed7', 'de...  \n",
       "\n",
       "[5 rows x 21 columns]"
      ]
     },
     "execution_count": 24,
     "metadata": {},
     "output_type": "execute_result"
    }
   ],
   "source": [
    "# Drop the specified columns\n",
    "column_to_drop = ['belongs_to_collection', 'homepage', 'imdb_id', 'poster_path', 'status', 'video']\n",
    "movies_df = movies_df.drop(column_to_drop, axis=1)\n",
    "\n",
    "# Replace missing values in text columns with 'Unknown'\n",
    "text_columns = ['original_language','tagline']\n",
    "movies_df[text_columns] = movies_df[text_columns].fillna('')\n",
    "\n",
    "# Replace missing value in number column with 0\n",
    "number_columns = ['runtime']\n",
    "movies_df[number_columns] = movies_df[number_columns].fillna(0)\n",
    "\n",
    "# Drop the missing value rows\n",
    "movies_df.dropna(inplace=True)\n",
    "movies_df.head()\n"
   ]
  },
  {
   "cell_type": "markdown",
   "id": "5d3cf9aa",
   "metadata": {},
   "source": [
    "#### 3.3 Data Transformation\n",
    "We undertook several data formatting steps to prepare our dataset for analysis. This included converting the `'release_date'` column into a datetime format and extracting the year into a new `'year'` column. The `'year'` column was then standardized as an integer. Additionally, we ensured the `'popularity'` column was in a float format for numerical operations, and the `'timestamp'` column in `ratings_df` was transformed from a Unix timestamp to a standard datetime format."
   ]
  },
  {
   "cell_type": "code",
   "execution_count": 25,
   "id": "05a80554",
   "metadata": {},
   "outputs": [],
   "source": [
    "# Convert the 'release_date' column to datetime format and extract the year into a new 'year' column\n",
    "# If the conversion fails, errors are coerced to NaT (Not a Timestamp)\n",
    "movies_df['year'] = pd.to_datetime(movies_df['release_date'], errors='coerce').dt.year\n",
    "\n",
    "# Convert the 'year' column to integer type, this will convert NaT to its integer representation\n",
    "movies_df['year'] = movies_df['year'].astype(int)\n",
    "\n",
    "# Convert the 'release_date' column to datetime format again to standardize its format\n",
    "# If the conversion fails, errors are coerced to NaT\n",
    "movies_df['release_date'] = pd.to_datetime(movies_df['release_date'], format=\"%Y-%m-%d\", errors='coerce')\n",
    "\n",
    "# Convert the 'popularity' column to float64 type to ensure numerical operations can be performed\n",
    "movies_df['popularity'] = movies_df['popularity'].astype('float64')\n",
    "\n",
    "# Convert the 'timestamp' column in ratings_df to datetime format using Unix timestamp\n",
    "# The lambda function converts each timestamp to a datetime object\n",
    "ratings_df['timestamp'] = ratings_df['timestamp'].apply(lambda x: datetime.datetime.fromtimestamp(x))\n"
   ]
  },
  {
   "cell_type": "markdown",
   "id": "23614c0e",
   "metadata": {},
   "source": [
    "In the data preparation phase, transforming certain columns is often necessary for easier analysis and feature engineering. Columns such as `'genres'`, `'keywords'`, `'cast'`, and `'crew'` contain complex or text-based data that may not be immediately useful in their current form.\n",
    "\n",
    "1. **List Transformation**: These columns are transformed into lists of elements using Python's `literal_eval` function. This allows us to extract essential information from these text-based fields.\n",
    "  \n",
    "2. **Director Extraction**: From the `'crew'` column, we specifically extract the director's name for each movie as it can be a significant feature for recommendations.\n",
    "  \n",
    "3. **Top Elements**: For columns like `'genres'` and `'keywords'`, we limit the data to the top 3 elements if more than 3 elements are present. This helps in reducing dimensionality.\n",
    "  \n",
    "4. **Data Cleaning**: We also clean the text data by converting everything to lower case and removing spaces. This ensures uniformity in text-based features.\n",
    "  \n",
    "5. **Bag of Words**: Finally, a 'bag_of_words' column is created by concatenating relevant features. This will serve as a composite feature for our recommendation engine.\n",
    "\n",
    "These transformations make the dataset more manageable and ready for model development and suitable formats for easier analysis and feature engineering."
   ]
  },
  {
   "cell_type": "code",
   "execution_count": 26,
   "id": "e94e3d66",
   "metadata": {},
   "outputs": [],
   "source": [
    "# Function to extract values from a column in a DataFrame and extend a target list with these values\n",
    "def extend_list_from_column(df, column_name, target_list, key='name'):\n",
    "    # Replace NaN with empty lists and apply literal_eval\n",
    "    # Then extract values using key and extend the target list\n",
    "    temp_df = df[column_name].fillna('[]').apply(literal_eval).apply(lambda x: [i[key] for i in x] if isinstance(x, list) else [])\n",
    "    for i in temp_df:\n",
    "        if i:\n",
    "            target_list.extend(i)\n",
    "\n",
    "# Function to get the director's name from the 'crew' column\n",
    "def get_director(x):\n",
    "    return next((i['name'] for i in x if i['job'] == 'Director'), np.nan)\n",
    "\n",
    "# Function to get the list of top 3 elements or the entire list, whichever is more\n",
    "def get_list(x):\n",
    "    if isinstance(x, list):\n",
    "        names = [i['name'] for i in x]\n",
    "        return names[:3] if len(names) > 3 else names\n",
    "    return []\n",
    "\n",
    "# Function to clean data: Convert strings to lower case and remove spaces\n",
    "def clean_data(x):\n",
    "    if isinstance(x, list):\n",
    "        return [str.lower(i.replace(\" \", \"\")) for i in x]\n",
    "    else:\n",
    "        if isinstance(x, str):\n",
    "            return str.lower(x.replace(\" \", \"\"))\n",
    "        else:\n",
    "            return ''\n",
    "\n",
    "# Function to create a bag of words from various columns\n",
    "def create_bag_of_words(x):\n",
    "    return ' '.join(x['keywords'] + x['cast'] + [x['director']] + x['genres'])\n",
    "\n",
    "# Initialize empty lists for storing specific types of data\n",
    "spoken_languages_list = []\n",
    "cast_list = []\n",
    "crew_list = []\n",
    "company_list = []\n",
    "country_list = []\n",
    "original_language_list = []\n",
    "\n",
    "# Extend the original_language_list from the 'original_language' column\n",
    "for i in movies_df['original_language']:\n",
    "    original_language_list.extend(i.split(', '))\n",
    "\n",
    "# Use the extend_list_from_column function to populate the initialized lists\n",
    "extend_list_from_column(movies_df, 'spoken_languages', spoken_languages_list)\n",
    "extend_list_from_column(movies_df, 'cast', cast_list, key='character')\n",
    "extend_list_from_column(movies_df, 'crew', crew_list)\n",
    "extend_list_from_column(movies_df, 'production_companies', company_list)\n",
    "extend_list_from_column(movies_df, 'production_countries', country_list)\n",
    "\n",
    "# Fill NaN values and apply literal_eval to specific columns\n",
    "for col in ['crew', 'cast', 'genres', 'keywords', 'production_companies']:\n",
    "    movies_df[col] = movies_df[col].fillna('[]').apply(literal_eval)\n",
    "\n",
    "# Apply the get_director function to extract directors from the 'crew' column\n",
    "movies_df['director'] = movies_df['crew'].apply(get_director)\n",
    "\n",
    "# Apply the get_list function to truncate or keep entire lists in specific columns\n",
    "for col in ['cast', 'genres', 'keywords', 'production_companies']:\n",
    "    movies_df[col] = movies_df[col].apply(get_list)\n",
    "    \n",
    "# Apply the clean_data function to sanitize feature columns\n",
    "features = ['adult', 'cast', 'keywords', 'director', 'genres', 'production_companies']\n",
    "for feature in features:\n",
    "    movies_df[feature] = movies_df[feature].apply(clean_data)\n",
    "    \n",
    "# Create a 'bag_of_words' column by concatenating relevant columns\n",
    "movies_df['bag_of_words'] = movies_df.apply(create_bag_of_words, axis=1)\n"
   ]
  },
  {
   "cell_type": "markdown",
   "id": "70880667",
   "metadata": {},
   "source": [
    "Before proceeding with the recommendation tasks, it's crucial to ensure that the movie IDs in both the `movies_df` and `ratings_df` are the same. This will help in avoiding any mismatches or errors during the recommendation process.\n",
    "\n",
    "The following code snippet accomplishes this by:\n",
    "\n",
    "1. Extracting the unique movie IDs from both `movies_df` and `ratings_df`.\n",
    "2. Finding the intersection of these sets to get IDs present in both dataframes.\n",
    "3. Filtering `movies_df` and `ratings_df` to only include these common IDs.\n"
   ]
  },
  {
   "cell_type": "code",
   "execution_count": 27,
   "id": "fb9bece4",
   "metadata": {},
   "outputs": [],
   "source": [
    "# # First, get the unique movie IDs from both dataframes\n",
    "# unique_movie_ids_movies_df = set(movies_df['id'])\n",
    "# unique_movie_ids_ratings_df = set(ratings_df['movieId'])\n",
    "\n",
    "# # Now find the intersection of these sets to get the IDs present in both dataframes\n",
    "# common_movie_ids = unique_movie_ids_movies_df.intersection(unique_movie_ids_ratings_df)\n",
    "\n",
    "# # Filter movies_df and ratings_df to only include these common IDs\n",
    "# movies_df = movies_df[movies_df['id'].isin(common_movie_ids)]\n",
    "# ratings_df = ratings_df[ratings_df['movieId'].isin(common_movie_ids)]"
   ]
  },
  {
   "cell_type": "markdown",
   "id": "4f7e0408",
   "metadata": {},
   "source": [
    "<a id=\"4\"></a>\n",
    "<font color=\"darkslateblue\" size=+2.5><b>4. Exploratory Data Analysis (EDA)</b></font>"
   ]
  },
  {
   "cell_type": "markdown",
   "id": "be79fa72",
   "metadata": {},
   "source": [
    "#### 4.1 Distribution of Movie Release Year\n",
    "To get a better understanding of the distribution of movies over the years, we plot a histogram based on the `'release_date'` column. This plot provides insights into the concentration of movie releases over the years and can be useful for further analyses."
   ]
  },
  {
   "cell_type": "code",
   "execution_count": 28,
   "id": "247f3497",
   "metadata": {},
   "outputs": [
    {
     "data": {
      "image/png": "[encoded data removed]",
      "text/plain": [
       "<Figure size 1500x700 with 1 Axes>"
      ]
     },
     "metadata": {},
     "output_type": "display_data"
    }
   ],
   "source": [
    "# 1. Plotting the histogram for movie release years\n",
    "plt.figure(figsize=(15, 7))\n",
    "sns.histplot(data=movies_df, x='release_date', bins=30, color='#fdc100', facecolor='#06837f', kde=True)\n",
    "plt.title('Distribution of Movies by Release Year')\n",
    "plt.xlabel('Release Date')\n",
    "plt.ylabel('Number of Movies')\n",
    "plt.show()\n"
   ]
  },
  {
   "cell_type": "markdown",
   "id": "4b354a7e",
   "metadata": {},
   "source": [
    "Insight :\n",
    "1. Growth over time : From just one movie in 1874 to nearly 2,000 in peak years, the film industry has seen exponential growth, highlighting its enduring appeal.\n",
    "2. Anomaly in 2020 : The sharp decline in movie releases in 2020 likely reflects the global impact of the COVID-19 pandemic on the industry.\n",
    "3. Boom by 1985: By 1985, the industry had matured significantly, with annual releases reaching up to 373, indicating a period of rapid expansion.\n"
   ]
  },
  {
   "cell_type": "markdown",
   "id": "c7aeca16",
   "metadata": {},
   "source": [
    "#### 4.2 Top Genres of Movies\n",
    "\n",
    "In this section, we identify and visualize in our dataset of the top 5 movie genres. We use a bar plot to display top 5 with the most occurrences genres and a pie chart to show their percentage distribution all genres."
   ]
  },
  {
   "cell_type": "code",
   "execution_count": 30,
   "id": "3224dccd",
   "metadata": {
    "scrolled": false
   },
   "outputs": [
    {
     "data": {
      "image/png": "[encoded data removed]",
      "text/plain": [
       "<Figure size 1400x600 with 2 Axes>"
      ]
     },
     "metadata": {},
     "output_type": "display_data"
    }
   ],
   "source": [
    "# 2. Top 5 Genre of Movies\n",
    "# Flatten genres and count occurrences\n",
    "genres_count = movies_df['genres']\n",
    "genres_count = genres_count.apply(lambda x: ', '.join(x))\n",
    "genres_count = Counter(', '.join(genres_count).split(', '))\n",
    "df_top5 = pd.DataFrame(genres_count.most_common(5), columns=['genre', 'total'])\n",
    "\n",
    "# Create the bar plot\n",
    "fig, axes = plt.subplots(1, 2, figsize=(14, 6))\n",
    "\n",
    "sns.barplot(data=df_top5, x='genre', y='total', ax=axes[0], palette=['#06837f', '#02cecb', '#b4ffff', '#f8e16c', '#fed811'])\n",
    "axes[0].set_title('Top 5 Genres in Movies', fontsize=18, weight=600, color='#333d29')\n",
    "\n",
    "# Create a DataFrame for all genres\n",
    "df_all = pd.DataFrame(list(genres_count.items()), columns=['genre', 'total']).sort_values('total', ascending=False)\n",
    "\n",
    "# Add 'Others' to top 5 DataFrame\n",
    "df_top5.loc[len(df_top5)] = {'genre': 'Others', 'total': df_all[5:].total.sum()}\n",
    "\n",
    "# Create the pie chart\n",
    "wedges, texts, autotexts = axes[1].pie(df_top5['total'], labels=df_top5['genre'], autopct='%.2f%%',\n",
    "                                       textprops={'fontsize': 14}, explode=[0, 0, 0, 0, 0, 0.1],\n",
    "                                       colors=['#06837f', '#02cecb', '#b4ffff', '#f8e16c', '#fed811', '#fdc100'])\n",
    "axes[1].set_title('Percentage Ratio of Movie Genres', fontsize=18, weight=600, color='#333d29')\n",
    "\n",
    "# Style the pie chart labels\n",
    "for autotext in autotexts:\n",
    "    autotext.set_color('#1c2541')\n",
    "    autotext.set_weight('bold')\n",
    "\n",
    "sns.despine(left=True, bottom=True)\n",
    "axes[1].axis('off')\n",
    "\n",
    "plt.show()\n"
   ]
  },
  {
   "cell_type": "markdown",
   "id": "2aae60b7",
   "metadata": {},
   "source": [
    "Insight :\n",
    "Total count of movie from this data shown that drama movies are the most common, followed by comedies that bring laughter. Thrillers offer excitement, romance films tell love stories, and action movies provide adventure. The \"Others\" category covers different genres, giving a wide variety of movie options. This insight highlights the diversity of choices for different preferences in movies."
   ]
  },
  {
   "cell_type": "markdown",
   "id": "1d94b70b",
   "metadata": {},
   "source": [
    "#### 4.3 Top  5 of Spoken Languages, Actors, Crews, Production Companies, and Production Countries\n",
    "In this section will show the top 5 spoken languages, original languages, actors, crew members, production companies, and production countries in our movie dataset. Each subplot uses horizontal lines and scatter points to represent the frequency of each category."
   ]
  },
  {
   "cell_type": "code",
   "execution_count": 31,
   "id": "f5ba9b68",
   "metadata": {},
   "outputs": [
    {
     "data": {
      "image/png": "[encoded data removed]",
      "text/plain": [
       "<Figure size 1300x1000 with 6 Axes>"
      ]
     },
     "metadata": {},
     "output_type": "display_data"
    }
   ],
   "source": [
    "def plot_data_on_axes(ax, data_list, title, xlabel, buffer=10):\n",
    "    df_plot = pd.DataFrame(Counter(data_list).most_common(5), columns=[xlabel, 'total']).sort_values(by='total', ascending=True)\n",
    "    ax.hlines(y=df_plot[xlabel], xmin=0, xmax=df_plot['total'], color='#06837f', alpha=0.7, linewidth=2)\n",
    "    ax.scatter(x=df_plot['total'], y=df_plot[xlabel], s=75, color='#fdc100')\n",
    "    ax.set_title(f'\\nTop 5 {title}\\n', fontsize=15, weight=600, color='#333d29')\n",
    "    for i, value in enumerate(df_plot['total']):\n",
    "        ax.text(value+buffer, i, value, va='center', fontsize=10, weight=600, color='#1c2541')\n",
    "    return df_plot\n",
    "\n",
    "fig, axes = plt.subplots(nrows=3, ncols=2, figsize=(13, 10))\n",
    "\n",
    "spoken_languages_df = plot_data_on_axes(axes[0,0], spoken_languages_list, 'Spoken Languages', 'language', 1)\n",
    "original_language_df = plot_data_on_axes(axes[0,1], original_language_list, 'Original Languages', 'language', 1)\n",
    "cast_df = plot_data_on_axes(axes[1,0], cast_list, 'Casts', 'name', 1)\n",
    "crew_df = plot_data_on_axes(axes[1,1], crew_list, 'Crews', 'name', 1)\n",
    "company_df = plot_data_on_axes(axes[2,0], company_list, 'Production Companies', 'name', 1)\n",
    "country_df = plot_data_on_axes(axes[2,1], country_list, 'Production Countries', 'name', 1)\n",
    "\n",
    "sns.despine()\n",
    "plt.tight_layout()\n",
    "plt.show()\n"
   ]
  },
  {
   "cell_type": "markdown",
   "id": "4b746502",
   "metadata": {},
   "source": [
    "Insight :\n",
    "\n",
    "The dataset reveals that English is the dominant language, both spoken and original, in the movies, emphasizing its global influence in the film industry. Notably, the United States is the leading country in film production, followed by the United Kingdom and France. Warner Bros. stands out as the top production company. The frequent appearance of roles like \"Himself\" and \"Herself\" suggests a significant number of documentaries or biographies. Key figures like Cedric Gibbons and Avy Kaufman appear to be highly involved in film production. This dataset provides a snapshot of the significant trends in languages, production houses, and roles in the movie industry.\n"
   ]
  },
  {
   "cell_type": "markdown",
   "id": "3beeab6d",
   "metadata": {},
   "source": [
    "#### 4.4 Distribution of Ratings\n",
    "In this section, we visualize the distribution of user ratings using a histogram and calculate the mean and median ratings. The histogram provides insights into how often each rating is given, while the mean and median offer a central tendency measure of the ratings."
   ]
  },
  {
   "cell_type": "code",
   "execution_count": 32,
   "id": "3d1f30f6",
   "metadata": {},
   "outputs": [
    {
     "data": {
      "image/png": "[encoded data removed]",
      "text/plain": [
       "<Figure size 1000x600 with 1 Axes>"
      ]
     },
     "metadata": {},
     "output_type": "display_data"
    },
    {
     "name": "stdout",
     "output_type": "stream",
     "text": [
      "Mean Rating: 3.543608255669773\n",
      "Median Rating: 4.0\n"
     ]
    }
   ],
   "source": [
    "# 4. Distribution of Ratings\n",
    "# Plot histogram of ratings\n",
    "plt.figure(figsize=(10, 6))\n",
    "plt.hist(ratings_df['rating'], bins=10, edgecolor='black')\n",
    "plt.title('Distribution of Ratings')\n",
    "plt.xlabel('Rating')\n",
    "plt.ylabel('Frequency')\n",
    "plt.show()\n",
    "\n",
    "# Calculate mean and median ratings\n",
    "mean_rating = ratings_df['rating'].mean()\n",
    "median_rating = ratings_df['rating'].median()\n",
    "\n",
    "print(f\"Mean Rating: {mean_rating}\")\n",
    "print(f\"Median Rating: {median_rating}\")\n"
   ]
  },
  {
   "cell_type": "markdown",
   "id": "3aebc0e5",
   "metadata": {},
   "source": [
    "The distribution of movie ratings in the dataset appears to be skewed towards higher values, as evidenced by a median rating of 4.0, which is notably higher than the mean rating of 3.54. This suggests that users are generally inclined to give positive ratings. The higher median relative to the mean could indicate that while most users give higher ratings, there are enough low ratings to pull the mean down but not significantly affect the median. This insight could be valuable for platforms aiming to understand user satisfaction and improve the quality of recommendations."
   ]
  },
  {
   "cell_type": "markdown",
   "id": "60031b15",
   "metadata": {},
   "source": [
    "<a id=\"5\"></a>\n",
    "<font color=\"darkslateblue\" size=+2.5><b>5. Model Exploration</b></font>"
   ]
  },
  {
   "cell_type": "markdown",
   "id": "4ce00882",
   "metadata": {},
   "source": [
    "### 5.1 Baseline Models\n",
    "\n",
    "In our recommender system, we will consider the following five simple baseline models to provide foundational insights. These will serve as the baseline performance metrics that any subsequent machine learning models aim to beat.\n",
    "\n",
    "#### 1. Global Mean Rating\n",
    "This model predicts the global mean rating for all user-item pairs, serving as the most basic form of recommendation.\n",
    "\n",
    "#### 2. User Mean Rating\n",
    "For this model, the mean rating of each user is calculated and used to predict ratings for all items the user has not yet interacted with.\n",
    "\n",
    "#### 3. Item Mean Rating\n",
    "In contrast to the User Mean Rating, this model focuses on the mean rating of each item and uses it to predict ratings for all users.\n",
    "\n",
    "#### 4. User-Item Mean Rating\n",
    "This model takes a more nuanced approach by predicting a rating for a user-item pair as the average of the user's mean rating and the item's mean rating. The formula is :\n",
    "\n",
    "$$\n",
    "\\text{Prediction} = \\frac{\\text{User Mean Rating} + \\text{Item Mean Rating}}{2}\n",
    "$$\n",
    "\n",
    "#### 5. Weighted Mean Ratings\n",
    "This model employs a weighted average of the user mean and item mean ratings. The weight \\( w \\) can be adjusted based on domain understanding. The formula is :\n",
    "\n",
    "$$\n",
    "\\text{Prediction} = w \\times \\text{User Mean Rating} + (1 - w) \\times \\text{Item Mean Rating}, \\quad \\text{where } 0 \\leq w \\leq 1\n",
    "$$\n"
   ]
  },
  {
   "cell_type": "code",
   "execution_count": 36,
   "id": "4c60711e",
   "metadata": {},
   "outputs": [],
   "source": [
    "# Split the data into training and testing sets (75% training, 25% testing)\n",
    "train_df, test_df = train_test_split(ratings_df, test_size=0.25, random_state=42)"
   ]
  },
  {
   "cell_type": "code",
   "execution_count": 37,
   "id": "d6736c2b",
   "metadata": {},
   "outputs": [
    {
     "name": "stdout",
     "output_type": "stream",
     "text": [
      "RMSE for Global Mean Rating Model: 1.06\n",
      "RMSE for User Mean Rating Model: 0.96\n",
      "RMSE for Item Mean Rating Model: 1.00\n",
      "RMSE for User-Item Mean Rating Model: 0.92\n",
      "RMSE for Weighted Mean Rating Model: 0.92\n",
      "RMSE for Constant Model: 1.49\n",
      "RMSE for Damped User-Mean Rating Model: 0.96\n"
     ]
    }
   ],
   "source": [
    "from math import sqrt\n",
    "\n",
    "# Function to calculate RMSE\n",
    "def calculate_rmse(y_true, y_pred):\n",
    "    return sqrt(mean_squared_error(y_true, y_pred))\n",
    "\n",
    "# Function to calculate MSE\n",
    "def calculate_mse(y_true, y_pred):\n",
    "    return mean_squared_error(y_true, y_pred)\n",
    "\n",
    "from sklearn.model_selection import train_test_split\n",
    "\n",
    "# Calculate the global mean rating using the training set\n",
    "global_mean_rating = train_df['rating'].mean()\n",
    "\n",
    "# Predict global mean rating for the test set\n",
    "test_df['global_mean_rating'] = global_mean_rating\n",
    "\n",
    "# Calculate user and item mean ratings using the training set\n",
    "user_mean_ratings = train_df.groupby('userId')['rating'].mean().reset_index()\n",
    "item_mean_ratings = train_df.groupby('movieId')['rating'].mean().reset_index()\n",
    "\n",
    "# Merge the mean ratings with the test set\n",
    "test_df = pd.merge(test_df, user_mean_ratings, on='userId', how='left').rename(columns={'rating_y': 'user_mean_rating', 'rating_x': 'rating'})\n",
    "test_df = pd.merge(test_df, item_mean_ratings, on='movieId', how='left').rename(columns={'rating_y': 'item_mean_rating', 'rating_x': 'rating'})\n",
    "\n",
    "# Fill NAs with global mean rating\n",
    "test_df['user_mean_rating'].fillna(global_mean_rating, inplace=True)\n",
    "test_df['item_mean_rating'].fillna(global_mean_rating, inplace=True)\n",
    "\n",
    "# Calculate User-Item Mean Rating\n",
    "test_df['user_item_mean_rating'] = (test_df['user_mean_rating'] + test_df['item_mean_rating']) / 2\n",
    "\n",
    "# Calculate Weighted Mean Ratings\n",
    "w = 0.5\n",
    "test_df['weighted_mean_rating'] = w * test_df['user_mean_rating'] + (1 - w) * test_df['item_mean_rating']\n",
    "\n",
    "# Constant Model with rating 2.5 for all user-item pairs\n",
    "test_df['constant_rating'] = 2.5\n",
    "\n",
    "# Calculate user mean ratings and number of ratings per user\n",
    "user_stats = train_df.groupby('userId')['rating'].agg(['mean', 'count']).reset_index()\n",
    "\n",
    "# Damping factor (you can adjust this)\n",
    "damping_factor = 0.2\n",
    "\n",
    "# Predict damped user-mean rating for the test set\n",
    "test_df = test_df.merge(user_stats, on='userId', how='left')\n",
    "test_df['damped_user_mean_rating'] = ((1 - damping_factor) * test_df['mean']) + (damping_factor * global_mean_rating)\n",
    "\n",
    "# Calculate RMSE for the damped user-mean model\n",
    "rmse_damped_user_mean = calculate_rmse(test_df['rating'], test_df['damped_user_mean_rating'])\n",
    "\n",
    "# Calculate RMSE for global mean, user mean, and item mean models\n",
    "rmse_global_mean = calculate_rmse(test_df['rating'], test_df['global_mean_rating'])\n",
    "rmse_user_mean = calculate_rmse(test_df['rating'], test_df['user_mean_rating'])\n",
    "rmse_item_mean = calculate_rmse(test_df['rating'], test_df['item_mean_rating'])\n",
    "rmse_user_item_mean = calculate_rmse(test_df['rating'], test_df['user_item_mean_rating'])\n",
    "rmse_weighted_mean = calculate_rmse(test_df['rating'], test_df['weighted_mean_rating'])\n",
    "rmse_constant = calculate_rmse(test_df['rating'], test_df['constant_rating'])\n",
    "rmse_damped_user_mean = calculate_rmse(test_df['rating'], test_df['damped_user_mean_rating'])\n",
    "\n",
    "# Display the RMSE and MSE scores for all models\n",
    "print(f\"RMSE for Global Mean Rating Model: {rmse_global_mean:.2f}\")\n",
    "print(f\"RMSE for User Mean Rating Model: {rmse_user_mean:.2f}\")\n",
    "print(f\"RMSE for Item Mean Rating Model: {rmse_item_mean:.2f}\")\n",
    "print(f\"RMSE for User-Item Mean Rating Model: {rmse_user_item_mean:.2f}\")\n",
    "print(f\"RMSE for Weighted Mean Rating Model: {rmse_weighted_mean:.2f}\")\n",
    "print(f\"RMSE for Constant Model: {rmse_constant:.2f}\")\n",
    "print(f\"RMSE for Damped User-Mean Rating Model: {rmse_damped_user_mean:.2f}\")"
   ]
  },
  {
   "cell_type": "markdown",
   "id": "ef44e77c",
   "metadata": {},
   "source": [
    "In simple terms, when building a movie recommendation system, it's important to start with basic models to understand how well we're doing. Our tests show that the best simple model combines both the average ratings of users and the average ratings of movies, scoring an RMSE of 0.92. This score tells us how close the model's predictions are to the actual ratings. The lower the score, the better the model. Models that look at only the user or only the movie also do well but not as good as when combining both. The worst model is one that always predicts the same rating, no matter the user or movie, with an RMSE of 1.49. These basic models give us a starting point. Any new, more complicated model should aim to get a lower RMSE than 0.92 to be considered better."
   ]
  },
  {
   "cell_type": "markdown",
   "id": "3c701069",
   "metadata": {},
   "source": [
    "### 5.2 Collaborative Filtering"
   ]
  },
  {
   "cell_type": "markdown",
   "id": "c3fa65be",
   "metadata": {},
   "source": [
    "The primary objective of this code is to identify the best machine learning model to be employed for the purpose of movie ratings prediction. With an array of algorithms available for recommendation systems, it is often difficult to select the optimal one for a given task. This code aims to resolve that dilemma by performing a comparative analysis of multiple algorithms on the same dataset, and then ranking them based on their performance metric, the Root Mean Square Error (RMSE)."
   ]
  },
  {
   "cell_type": "code",
   "execution_count": 38,
   "id": "d021a519",
   "metadata": {},
   "outputs": [
    {
     "name": "stderr",
     "output_type": "stream",
     "text": [
      "C:\\Users\\bmurdyantoro\\AppData\\Local\\Temp\\ipykernel_5076\\1260022455.py:9: FutureWarning: The series.append method is deprecated and will be removed from pandas in a future version. Use pandas.concat instead.\n",
      "  tmp = tmp.append(pd.Series([str(algorithm).split(' ')[0].split('.')[-1]], index=['Algorithm']))\n",
      "C:\\Users\\bmurdyantoro\\AppData\\Local\\Temp\\ipykernel_5076\\1260022455.py:9: FutureWarning: The series.append method is deprecated and will be removed from pandas in a future version. Use pandas.concat instead.\n",
      "  tmp = tmp.append(pd.Series([str(algorithm).split(' ')[0].split('.')[-1]], index=['Algorithm']))\n",
      "C:\\Users\\bmurdyantoro\\AppData\\Local\\Temp\\ipykernel_5076\\1260022455.py:9: FutureWarning: The series.append method is deprecated and will be removed from pandas in a future version. Use pandas.concat instead.\n",
      "  tmp = tmp.append(pd.Series([str(algorithm).split(' ')[0].split('.')[-1]], index=['Algorithm']))\n"
     ]
    },
    {
     "name": "stdout",
     "output_type": "stream",
     "text": [
      "Computing the msd similarity matrix...\n",
      "Done computing similarity matrix.\n",
      "Computing the msd similarity matrix...\n",
      "Done computing similarity matrix.\n",
      "Computing the msd similarity matrix...\n",
      "Done computing similarity matrix.\n",
      "Computing the msd similarity matrix...\n",
      "Done computing similarity matrix.\n",
      "Computing the msd similarity matrix...\n",
      "Done computing similarity matrix.\n"
     ]
    },
    {
     "name": "stderr",
     "output_type": "stream",
     "text": [
      "C:\\Users\\bmurdyantoro\\AppData\\Local\\Temp\\ipykernel_5076\\1260022455.py:9: FutureWarning: The series.append method is deprecated and will be removed from pandas in a future version. Use pandas.concat instead.\n",
      "  tmp = tmp.append(pd.Series([str(algorithm).split(' ')[0].split('.')[-1]], index=['Algorithm']))\n",
      "C:\\Users\\bmurdyantoro\\AppData\\Local\\Temp\\ipykernel_5076\\1260022455.py:9: FutureWarning: The series.append method is deprecated and will be removed from pandas in a future version. Use pandas.concat instead.\n",
      "  tmp = tmp.append(pd.Series([str(algorithm).split(' ')[0].split('.')[-1]], index=['Algorithm']))\n"
     ]
    },
    {
     "data": {
      "text/html": [
       "<div>\n",
       "<style scoped>\n",
       "    .dataframe tbody tr th:only-of-type {\n",
       "        vertical-align: middle;\n",
       "    }\n",
       "\n",
       "    .dataframe tbody tr th {\n",
       "        vertical-align: top;\n",
       "    }\n",
       "\n",
       "    .dataframe thead th {\n",
       "        text-align: right;\n",
       "    }\n",
       "</style>\n",
       "<table border=\"1\" class=\"dataframe\">\n",
       "  <thead>\n",
       "    <tr style=\"text-align: right;\">\n",
       "      <th></th>\n",
       "      <th>test_rmse</th>\n",
       "      <th>fit_time</th>\n",
       "      <th>test_time</th>\n",
       "    </tr>\n",
       "    <tr>\n",
       "      <th>Algorithm</th>\n",
       "      <th></th>\n",
       "      <th></th>\n",
       "      <th></th>\n",
       "    </tr>\n",
       "  </thead>\n",
       "  <tbody>\n",
       "    <tr>\n",
       "      <th>SVDpp</th>\n",
       "      <td>0.887147</td>\n",
       "      <td>74.460062</td>\n",
       "      <td>10.458487</td>\n",
       "    </tr>\n",
       "    <tr>\n",
       "      <th>SVD</th>\n",
       "      <td>0.897884</td>\n",
       "      <td>1.484315</td>\n",
       "      <td>0.279253</td>\n",
       "    </tr>\n",
       "    <tr>\n",
       "      <th>KNNWithZScore</th>\n",
       "      <td>0.917251</td>\n",
       "      <td>0.517798</td>\n",
       "      <td>1.994599</td>\n",
       "    </tr>\n",
       "    <tr>\n",
       "      <th>NMF</th>\n",
       "      <td>0.947213</td>\n",
       "      <td>2.908813</td>\n",
       "      <td>0.282129</td>\n",
       "    </tr>\n",
       "    <tr>\n",
       "      <th>CoClustering</th>\n",
       "      <td>0.961607</td>\n",
       "      <td>4.025636</td>\n",
       "      <td>0.140529</td>\n",
       "    </tr>\n",
       "  </tbody>\n",
       "</table>\n",
       "</div>"
      ],
      "text/plain": [
       "               test_rmse   fit_time  test_time\n",
       "Algorithm                                     \n",
       "SVDpp           0.887147  74.460062  10.458487\n",
       "SVD             0.897884   1.484315   0.279253\n",
       "KNNWithZScore   0.917251   0.517798   1.994599\n",
       "NMF             0.947213   2.908813   0.282129\n",
       "CoClustering    0.961607   4.025636   0.140529"
      ]
     },
     "execution_count": 38,
     "metadata": {},
     "output_type": "execute_result"
    }
   ],
   "source": [
    "reader = Reader(rating_scale=(1, 5))\n",
    "data = Dataset.load_from_df(ratings_df[['userId', 'movieId', 'rating']], reader)\n",
    "\n",
    "benchmark = []\n",
    "algorithms = [SVD(), SVDpp(), NMF(), KNNWithZScore(), CoClustering()]\n",
    "for algorithm in algorithms:\n",
    "    results = cross_validate(algorithm, data, measures=['RMSE'], cv=5, verbose=False)\n",
    "    tmp = pd.DataFrame.from_dict(results).mean(axis=0)\n",
    "    tmp = tmp.append(pd.Series([str(algorithm).split(' ')[0].split('.')[-1]], index=['Algorithm']))\n",
    "    benchmark.append(tmp)\n",
    "\n",
    "# Display benchmark results\n",
    "pd.DataFrame(benchmark).set_index('Algorithm').sort_values('test_rmse')"
   ]
  },
  {
   "cell_type": "markdown",
   "id": "26fbef4a",
   "metadata": {},
   "source": [
    "In the analysis of various machine learning algorithms for recommendation systems, SVDpp clearly has the edge in terms of predictive accuracy, achieving the lowest RMSE score. However, this high accuracy comes with a computational cost, taking substantially more time for model training and testing compared to other methods like SVD, NMF, and KNNWithZScore. Given that SVD offers a good balance between accuracy and computational time, it emerges as a strong candidate for applications that require a balanced approach.\n",
    "\n",
    "For the next steps, we transition from the benchmarking phase to hyperparameter tuning. Here, Randomized Search is used instead of Grid Search for parameter optimization. Randomized Search can be more efficient and is especially useful when the computational cost for the best-performing model (SVDpp) is high. It samples a fixed number of candidates from the parameter space and offers computational advantages. This approach can often find a good set of hyperparameters with much fewer iterations. \n",
    "\n",
    "The final model is then trained using these optimized parameters to ensure maximum predictive accuracy while keeping the computational time reasonable. This fine-tuned model can be expected to perform even better in terms of RMSE, potentially narrowing the gap between SVD and SVDpp and making it an even more attractive choice for real-world applications that require both speed and accuracy."
   ]
  },
  {
   "cell_type": "code",
   "execution_count": 39,
   "id": "31864ca4",
   "metadata": {},
   "outputs": [
    {
     "name": "stdout",
     "output_type": "stream",
     "text": [
      " processing epoch 0\n",
      " processing epoch 1\n",
      " processing epoch 2\n",
      " processing epoch 3\n",
      " processing epoch 4\n",
      " processing epoch 5\n",
      " processing epoch 6\n",
      " processing epoch 7\n",
      " processing epoch 8\n",
      " processing epoch 9\n",
      " processing epoch 10\n",
      " processing epoch 11\n",
      " processing epoch 12\n",
      " processing epoch 13\n",
      " processing epoch 14\n",
      " processing epoch 15\n",
      " processing epoch 16\n",
      " processing epoch 17\n",
      " processing epoch 18\n",
      " processing epoch 19\n"
     ]
    },
    {
     "data": {
      "text/plain": [
       "<surprise.prediction_algorithms.matrix_factorization.SVDpp at 0x1bb81820490>"
      ]
     },
     "execution_count": 39,
     "metadata": {},
     "output_type": "execute_result"
    }
   ],
   "source": [
    "from surprise.model_selection import RandomizedSearchCV\n",
    "\n",
    "# Create a Reader object specifying the rating scale\n",
    "reader = Reader(rating_scale=(1, 5))\n",
    "\n",
    "# Load the data into the Surprise Dataset\n",
    "train_data = Dataset.load_from_df(train_df[['userId', 'movieId', 'rating']], reader)\n",
    "test_data = Dataset.load_from_df(test_df[['userId', 'movieId', 'rating']], reader)\n",
    "\n",
    "# Build the trainset and testset\n",
    "trainset = train_data.build_full_trainset()\n",
    "testset = test_data.build_full_trainset().build_testset()\n",
    "\n",
    "# Hyperparameter tuning using Randomized Search\n",
    "param_dist = {\n",
    "    'n_factors': [20, 50, 100, 150],\n",
    "    'n_epochs': [20],\n",
    "    'lr_all': [0.001, 0.002, 0.005, 0.01],\n",
    "    'reg_all': [0.2, 0.4, 0.6, 0.8]\n",
    "}\n",
    "\n",
    "rs = RandomizedSearchCV(SVDpp, param_dist, measures=['rmse', 'mae'], cv=3, n_iter=10)\n",
    "rs.fit(train_data)\n",
    "\n",
    "# Initialize the SVDpp algorithm with the best parameters\n",
    "algo = SVDpp(\n",
    "    n_factors=rs.best_params['rmse']['n_factors'],\n",
    "    n_epochs=rs.best_params['rmse']['n_epochs'],\n",
    "    lr_all=rs.best_params['rmse']['lr_all'],\n",
    "    reg_all=rs.best_params['rmse']['reg_all'],\n",
    "    random_state=0,\n",
    "    verbose=True\n",
    ")\n",
    "\n",
    "# Train the model on the trainset\n",
    "algo.fit(trainset)"
   ]
  },
  {
   "cell_type": "code",
   "execution_count": 40,
   "id": "7df85136",
   "metadata": {},
   "outputs": [
    {
     "name": "stdout",
     "output_type": "stream",
     "text": [
      "Best RMSE score attained:  0.9007968171010536\n",
      "Best parameters:  {'n_factors': 150, 'n_epochs': 20, 'lr_all': 0.01, 'reg_all': 0.2}\n"
     ]
    }
   ],
   "source": [
    "# Best RMSE score\n",
    "print('Best RMSE score attained: ', rs.best_score['rmse'])\n",
    "\n",
    "# Best hyperparameters\n",
    "print('Best parameters: ', rs.best_params['rmse'])"
   ]
  },
  {
   "cell_type": "markdown",
   "id": "8fb888ed",
   "metadata": {},
   "source": [
    "The hyperparameter tuning via Randomized Search CV yielded a best RMSE score of approximately 0.902, which is a measure of how well the model predicts the movie ratings. The best hyperparameters for SVDpp were 20 latent factors (n_factors), 20 epochs (n_epochs), a learning rate (lr_all) of 0.01, and a regularization term (reg_all) of 0.2. These parameters represent a trade-off between model complexity and the risk of overfitting. The lower number of latent factors and moderate learning rate suggest that a simpler model with faster convergence is more effective for this dataset."
   ]
  },
  {
   "cell_type": "markdown",
   "id": "87ad226c",
   "metadata": {},
   "source": [
    "The model went through 20 epochs during training, which is consistent with the hyperparameter tuning results. This indicates that the model likely converged to a good solution within those epochs. While the RMSE score after tuning is relatively close to the one before tuning, the process of hyperparameter optimization ensures that the model is not only accurate but also generalizes well to unseen data. The next steps could include further model evaluation on a test set to confirm its accuracy of the model also accurate on unfamiliar data and eventually deploying this fine-tuned model into a production environment."
   ]
  },
  {
   "cell_type": "code",
   "execution_count": 41,
   "id": "d62d8a75",
   "metadata": {},
   "outputs": [
    {
     "name": "stdout",
     "output_type": "stream",
     "text": [
      "RMSE: 0.8924\n",
      "MAE:  0.6884\n",
      "FCP:  0.6569\n",
      "Evaluation Metrics:\n",
      "RMSE score: 0.8923652509175035\n",
      "MAE score: 0.688410828253032\n",
      "FCP score: 0.6568761549147905\n"
     ]
    }
   ],
   "source": [
    "try:\n",
    "    # Predict ratings for the testset\n",
    "    predictions = algo.test(testset)\n",
    "    \n",
    "    # Calculate RMSE for the predictions\n",
    "    rmse_score = accuracy.rmse(predictions)\n",
    "    \n",
    "    # Calculate other accuracy measures\n",
    "    mae_score = accuracy.mae(predictions)\n",
    "    fcp_score = accuracy.fcp(predictions)\n",
    "    \n",
    "    print(f\"Evaluation Metrics:\")\n",
    "    print(f\"RMSE score: {rmse_score}\")\n",
    "    print(f\"MAE score: {mae_score}\")\n",
    "    print(f\"FCP score: {fcp_score}\")\n",
    "    \n",
    "    # Save the predictions to a DataFrame\n",
    "    predictions_df = pd.DataFrame(predictions)\n",
    "    predictions_df = predictions_df.rename(columns={'uid': 'userId', 'iid': 'movieId', 'r_ui': 'actual', 'est': 'predicted'})\n",
    "    predictions_df['error'] = np.abs(predictions_df['actual'] - predictions_df['predicted'])\n",
    "    \n",
    "    # Save DataFrame to CSV file\n",
    "    predictions_df.to_csv('predictions.csv', index=False)\n",
    "\n",
    "except Exception as e:\n",
    "    print(f\"An error occurred: {e}\")\n"
   ]
  },
  {
   "cell_type": "markdown",
   "id": "29e122f3",
   "metadata": {},
   "source": [
    "The trained machine learning model achieved an RMSE score of 0.9018 on the training data and improved slightly to 0.8931 when evaluated on the test data. This slight improvement in the test data suggests that the model is robust and generalizes well to unseen data, which is a positive sign of a good model.\n",
    "\n",
    "Moreover, these scores are notably better than the baseline models. The User-Item Mean Rating Model and the Weighted Mean Rating Model both achieved an RMSE of 0.92. Given that the machine learning model outperforms these simpler baseline models, it confirms the efficacy of using a more complex algorithm for this recommendation system.\n",
    "\n",
    "In summary, the machine learning model not only performs well on the training data but also shows a strong capability to generalize to new, unseen data. This makes it a suitable candidate for deployment in a real-world recommendation system."
   ]
  },
  {
   "cell_type": "markdown",
   "id": "adb2a2d2",
   "metadata": {},
   "source": [
    "#### Personalized Recommendations\n",
    "After your model makes predictions, you can sort the movies for each user by their predicted ratings in descending order. Then you can suggest the top N movies that the user hasn't rated yet.\n",
    "\n"
   ]
  },
  {
   "cell_type": "code",
   "execution_count": 42,
   "id": "cbb9f72d",
   "metadata": {},
   "outputs": [
    {
     "data": {
      "text/html": [
       "<div>\n",
       "<style scoped>\n",
       "    .dataframe tbody tr th:only-of-type {\n",
       "        vertical-align: middle;\n",
       "    }\n",
       "\n",
       "    .dataframe tbody tr th {\n",
       "        vertical-align: top;\n",
       "    }\n",
       "\n",
       "    .dataframe thead th {\n",
       "        text-align: right;\n",
       "    }\n",
       "</style>\n",
       "<table border=\"1\" class=\"dataframe\">\n",
       "  <thead>\n",
       "    <tr style=\"text-align: right;\">\n",
       "      <th></th>\n",
       "      <th></th>\n",
       "      <th>userId</th>\n",
       "      <th>movieId</th>\n",
       "      <th>actual</th>\n",
       "      <th>predicted</th>\n",
       "      <th>details</th>\n",
       "      <th>error</th>\n",
       "    </tr>\n",
       "    <tr>\n",
       "      <th>userId</th>\n",
       "      <th></th>\n",
       "      <th></th>\n",
       "      <th></th>\n",
       "      <th></th>\n",
       "      <th></th>\n",
       "      <th></th>\n",
       "      <th></th>\n",
       "    </tr>\n",
       "  </thead>\n",
       "  <tbody>\n",
       "    <tr>\n",
       "      <th>1</th>\n",
       "      <th>24992</th>\n",
       "      <td>1</td>\n",
       "      <td>1339</td>\n",
       "      <td>3.5</td>\n",
       "      <td>2.498957</td>\n",
       "      <td>{'was_impossible': False}</td>\n",
       "      <td>1.001043</td>\n",
       "    </tr>\n",
       "    <tr>\n",
       "      <th rowspan=\"4\" valign=\"top\">2</th>\n",
       "      <th>16797</th>\n",
       "      <td>2</td>\n",
       "      <td>319</td>\n",
       "      <td>1.0</td>\n",
       "      <td>4.003733</td>\n",
       "      <td>{'was_impossible': False}</td>\n",
       "      <td>3.003733</td>\n",
       "    </tr>\n",
       "    <tr>\n",
       "      <th>16798</th>\n",
       "      <td>2</td>\n",
       "      <td>47</td>\n",
       "      <td>4.0</td>\n",
       "      <td>3.956719</td>\n",
       "      <td>{'was_impossible': False}</td>\n",
       "      <td>0.043281</td>\n",
       "    </tr>\n",
       "    <tr>\n",
       "      <th>16802</th>\n",
       "      <td>2</td>\n",
       "      <td>720</td>\n",
       "      <td>4.0</td>\n",
       "      <td>3.851097</td>\n",
       "      <td>{'was_impossible': False}</td>\n",
       "      <td>0.148903</td>\n",
       "    </tr>\n",
       "    <tr>\n",
       "      <th>16800</th>\n",
       "      <td>2</td>\n",
       "      <td>588</td>\n",
       "      <td>3.0</td>\n",
       "      <td>3.580345</td>\n",
       "      <td>{'was_impossible': False}</td>\n",
       "      <td>0.580345</td>\n",
       "    </tr>\n",
       "    <tr>\n",
       "      <th>...</th>\n",
       "      <th>...</th>\n",
       "      <td>...</td>\n",
       "      <td>...</td>\n",
       "      <td>...</td>\n",
       "      <td>...</td>\n",
       "      <td>...</td>\n",
       "      <td>...</td>\n",
       "    </tr>\n",
       "    <tr>\n",
       "      <th rowspan=\"5\" valign=\"top\">671</th>\n",
       "      <th>11432</th>\n",
       "      <td>671</td>\n",
       "      <td>4973</td>\n",
       "      <td>4.5</td>\n",
       "      <td>4.179938</td>\n",
       "      <td>{'was_impossible': False}</td>\n",
       "      <td>0.320062</td>\n",
       "    </tr>\n",
       "    <tr>\n",
       "      <th>11425</th>\n",
       "      <td>671</td>\n",
       "      <td>5995</td>\n",
       "      <td>4.0</td>\n",
       "      <td>4.174639</td>\n",
       "      <td>{'was_impossible': False}</td>\n",
       "      <td>0.174639</td>\n",
       "    </tr>\n",
       "    <tr>\n",
       "      <th>11419</th>\n",
       "      <td>671</td>\n",
       "      <td>4011</td>\n",
       "      <td>4.0</td>\n",
       "      <td>4.119358</td>\n",
       "      <td>{'was_impossible': False}</td>\n",
       "      <td>0.119358</td>\n",
       "    </tr>\n",
       "    <tr>\n",
       "      <th>11415</th>\n",
       "      <td>671</td>\n",
       "      <td>1197</td>\n",
       "      <td>3.5</td>\n",
       "      <td>4.117302</td>\n",
       "      <td>{'was_impossible': False}</td>\n",
       "      <td>0.617302</td>\n",
       "    </tr>\n",
       "    <tr>\n",
       "      <th>11433</th>\n",
       "      <td>671</td>\n",
       "      <td>4993</td>\n",
       "      <td>5.0</td>\n",
       "      <td>4.107547</td>\n",
       "      <td>{'was_impossible': False}</td>\n",
       "      <td>0.892453</td>\n",
       "    </tr>\n",
       "  </tbody>\n",
       "</table>\n",
       "<p>3263 rows × 6 columns</p>\n",
       "</div>"
      ],
      "text/plain": [
       "              userId  movieId  actual  predicted                    details  \\\n",
       "userId                                                                        \n",
       "1      24992       1     1339     3.5   2.498957  {'was_impossible': False}   \n",
       "2      16797       2      319     1.0   4.003733  {'was_impossible': False}   \n",
       "       16798       2       47     4.0   3.956719  {'was_impossible': False}   \n",
       "       16802       2      720     4.0   3.851097  {'was_impossible': False}   \n",
       "       16800       2      588     3.0   3.580345  {'was_impossible': False}   \n",
       "...              ...      ...     ...        ...                        ...   \n",
       "671    11432     671     4973     4.5   4.179938  {'was_impossible': False}   \n",
       "       11425     671     5995     4.0   4.174639  {'was_impossible': False}   \n",
       "       11419     671     4011     4.0   4.119358  {'was_impossible': False}   \n",
       "       11415     671     1197     3.5   4.117302  {'was_impossible': False}   \n",
       "       11433     671     4993     5.0   4.107547  {'was_impossible': False}   \n",
       "\n",
       "                 error  \n",
       "userId                  \n",
       "1      24992  1.001043  \n",
       "2      16797  3.003733  \n",
       "       16798  0.043281  \n",
       "       16802  0.148903  \n",
       "       16800  0.580345  \n",
       "...                ...  \n",
       "671    11432  0.320062  \n",
       "       11425  0.174639  \n",
       "       11419  0.119358  \n",
       "       11415  0.617302  \n",
       "       11433  0.892453  \n",
       "\n",
       "[3263 rows x 6 columns]"
      ]
     },
     "execution_count": 42,
     "metadata": {},
     "output_type": "execute_result"
    }
   ],
   "source": [
    "# For each user, recommend the top 5 movies with the highest predicted ratings\n",
    "top_n_recommendations = predictions_df.groupby('userId').apply(lambda x: x.sort_values(by='predicted', ascending=False).head(5))\n",
    "top_n_recommendations"
   ]
  },
  {
   "cell_type": "markdown",
   "id": "c1edf65d",
   "metadata": {},
   "source": [
    "#### Targeted Marketing\n",
    "You can use the recommender to target users who are most likely to enjoy certain movies, and then send them promotional emails or notifications."
   ]
  },
  {
   "cell_type": "code",
   "execution_count": 43,
   "id": "087e5668",
   "metadata": {},
   "outputs": [
    {
     "data": {
      "text/plain": [
       "15078     46\n",
       "6950     298\n",
       "23125    446\n",
       "15107    622\n",
       "5113      78\n",
       "        ... \n",
       "21886    425\n",
       "19903    527\n",
       "543      468\n",
       "13313    262\n",
       "16667    429\n",
       "Name: userId, Length: 70, dtype: int64"
      ]
     },
     "execution_count": 43,
     "metadata": {},
     "output_type": "execute_result"
    }
   ],
   "source": [
    "# Identify users who are likely to rate a particular movie highly\n",
    "likely_fans = predictions_df[predictions_df['movieId'] == 4993].sort_values(by='predicted', ascending=False).head(100)['userId']\n",
    "likely_fans"
   ]
  },
  {
   "cell_type": "markdown",
   "id": "6eb1b67f",
   "metadata": {},
   "source": [
    "#### Content Strategy\n",
    "Analyze the average predicted ratings for each genre to decide what kind of movies to produce or acquire."
   ]
  },
  {
   "cell_type": "code",
   "execution_count": 44,
   "id": "946ee8b0",
   "metadata": {},
   "outputs": [
    {
     "data": {
      "text/plain": [
       "genres\n",
       "western           3.742405\n",
       "animation         3.701935\n",
       "mystery           3.663665\n",
       "crime             3.612853\n",
       "thriller          3.609484\n",
       "action            3.595005\n",
       "romance           3.589720\n",
       "drama             3.570997\n",
       "comedy            3.555630\n",
       "war               3.555431\n",
       "fantasy           3.553437\n",
       "sciencefiction    3.544802\n",
       "tvmovie           3.544526\n",
       "foreign           3.543316\n",
       "documentary       3.542965\n",
       "horror            3.529869\n",
       "adventure         3.527362\n",
       "history           3.499671\n",
       "music             3.495351\n",
       "family            3.465673\n",
       "Name: predicted, dtype: float64"
      ]
     },
     "execution_count": 44,
     "metadata": {},
     "output_type": "execute_result"
    }
   ],
   "source": [
    "# Assume 'movies_df' contains a 'genres' column and is merged with 'predictions_df'\n",
    "content_strategy_df = pd.merge(predictions_df, movies_df[['id', 'genres']], left_on='movieId', right_on='id')\n",
    "# First, explode the 'genres' list into separate rows.\n",
    "content_strategy_df_exploded = content_strategy_df.explode('genres')\n",
    "# Now, group by the 'genres' column and calculate the mean predicted rating.\n",
    "avg_genre_ratings = content_strategy_df_exploded.groupby('genres')['predicted'].mean().sort_values(ascending=False)\n",
    "avg_genre_ratings"
   ]
  },
  {
   "cell_type": "markdown",
   "id": "f28a972d",
   "metadata": {},
   "source": [
    "#### Customer Segmentation\n",
    "Use clustering algorithms to segment users based on their predicted movie preferences."
   ]
  },
  {
   "cell_type": "code",
   "execution_count": 45,
   "id": "ec4af947",
   "metadata": {},
   "outputs": [
    {
     "name": "stderr",
     "output_type": "stream",
     "text": [
      "C:\\Users\\bmurdyantoro\\AppData\\Local\\anaconda3\\Lib\\site-packages\\sklearn\\cluster\\_kmeans.py:1412: FutureWarning: The default value of `n_init` will change from 10 to 'auto' in 1.4. Set the value of `n_init` explicitly to suppress the warning\n",
      "  super()._check_params_vs_input(X, default_n_init=10)\n"
     ]
    },
    {
     "data": {
      "text/html": [
       "<div>\n",
       "<style scoped>\n",
       "    .dataframe tbody tr th:only-of-type {\n",
       "        vertical-align: middle;\n",
       "    }\n",
       "\n",
       "    .dataframe tbody tr th {\n",
       "        vertical-align: top;\n",
       "    }\n",
       "\n",
       "    .dataframe thead th {\n",
       "        text-align: right;\n",
       "    }\n",
       "</style>\n",
       "<table border=\"1\" class=\"dataframe\">\n",
       "  <thead>\n",
       "    <tr style=\"text-align: right;\">\n",
       "      <th></th>\n",
       "      <th>userId</th>\n",
       "      <th>movieId</th>\n",
       "      <th>actual</th>\n",
       "      <th>predicted</th>\n",
       "      <th>details</th>\n",
       "      <th>error</th>\n",
       "      <th>cluster</th>\n",
       "    </tr>\n",
       "  </thead>\n",
       "  <tbody>\n",
       "    <tr>\n",
       "      <th>0</th>\n",
       "      <td>128</td>\n",
       "      <td>1028</td>\n",
       "      <td>5.0</td>\n",
       "      <td>4.263427</td>\n",
       "      <td>{'was_impossible': False}</td>\n",
       "      <td>0.736573</td>\n",
       "      <td>0</td>\n",
       "    </tr>\n",
       "    <tr>\n",
       "      <th>1</th>\n",
       "      <td>128</td>\n",
       "      <td>2581</td>\n",
       "      <td>3.0</td>\n",
       "      <td>3.708320</td>\n",
       "      <td>{'was_impossible': False}</td>\n",
       "      <td>0.708320</td>\n",
       "      <td>4</td>\n",
       "    </tr>\n",
       "    <tr>\n",
       "      <th>2</th>\n",
       "      <td>128</td>\n",
       "      <td>5829</td>\n",
       "      <td>3.0</td>\n",
       "      <td>3.997310</td>\n",
       "      <td>{'was_impossible': False}</td>\n",
       "      <td>0.997310</td>\n",
       "      <td>4</td>\n",
       "    </tr>\n",
       "    <tr>\n",
       "      <th>3</th>\n",
       "      <td>128</td>\n",
       "      <td>3081</td>\n",
       "      <td>4.0</td>\n",
       "      <td>4.082504</td>\n",
       "      <td>{'was_impossible': False}</td>\n",
       "      <td>0.082504</td>\n",
       "      <td>0</td>\n",
       "    </tr>\n",
       "    <tr>\n",
       "      <th>4</th>\n",
       "      <td>128</td>\n",
       "      <td>673</td>\n",
       "      <td>4.0</td>\n",
       "      <td>3.219868</td>\n",
       "      <td>{'was_impossible': False}</td>\n",
       "      <td>0.780132</td>\n",
       "      <td>3</td>\n",
       "    </tr>\n",
       "    <tr>\n",
       "      <th>...</th>\n",
       "      <td>...</td>\n",
       "      <td>...</td>\n",
       "      <td>...</td>\n",
       "      <td>...</td>\n",
       "      <td>...</td>\n",
       "      <td>...</td>\n",
       "      <td>...</td>\n",
       "    </tr>\n",
       "    <tr>\n",
       "      <th>24996</th>\n",
       "      <td>276</td>\n",
       "      <td>1129</td>\n",
       "      <td>4.0</td>\n",
       "      <td>2.907244</td>\n",
       "      <td>{'was_impossible': False}</td>\n",
       "      <td>1.092756</td>\n",
       "      <td>3</td>\n",
       "    </tr>\n",
       "    <tr>\n",
       "      <th>24997</th>\n",
       "      <td>276</td>\n",
       "      <td>1747</td>\n",
       "      <td>4.0</td>\n",
       "      <td>3.146968</td>\n",
       "      <td>{'was_impossible': False}</td>\n",
       "      <td>0.853032</td>\n",
       "      <td>3</td>\n",
       "    </tr>\n",
       "    <tr>\n",
       "      <th>24998</th>\n",
       "      <td>490</td>\n",
       "      <td>762</td>\n",
       "      <td>3.0</td>\n",
       "      <td>2.741219</td>\n",
       "      <td>{'was_impossible': False}</td>\n",
       "      <td>0.258781</td>\n",
       "      <td>2</td>\n",
       "    </tr>\n",
       "    <tr>\n",
       "      <th>24999</th>\n",
       "      <td>490</td>\n",
       "      <td>736</td>\n",
       "      <td>3.0</td>\n",
       "      <td>3.353938</td>\n",
       "      <td>{'was_impossible': False}</td>\n",
       "      <td>0.353938</td>\n",
       "      <td>1</td>\n",
       "    </tr>\n",
       "    <tr>\n",
       "      <th>25000</th>\n",
       "      <td>490</td>\n",
       "      <td>95</td>\n",
       "      <td>4.0</td>\n",
       "      <td>3.283774</td>\n",
       "      <td>{'was_impossible': False}</td>\n",
       "      <td>0.716226</td>\n",
       "      <td>3</td>\n",
       "    </tr>\n",
       "  </tbody>\n",
       "</table>\n",
       "<p>25001 rows × 7 columns</p>\n",
       "</div>"
      ],
      "text/plain": [
       "       userId  movieId  actual  predicted                    details  \\\n",
       "0         128     1028     5.0   4.263427  {'was_impossible': False}   \n",
       "1         128     2581     3.0   3.708320  {'was_impossible': False}   \n",
       "2         128     5829     3.0   3.997310  {'was_impossible': False}   \n",
       "3         128     3081     4.0   4.082504  {'was_impossible': False}   \n",
       "4         128      673     4.0   3.219868  {'was_impossible': False}   \n",
       "...       ...      ...     ...        ...                        ...   \n",
       "24996     276     1129     4.0   2.907244  {'was_impossible': False}   \n",
       "24997     276     1747     4.0   3.146968  {'was_impossible': False}   \n",
       "24998     490      762     3.0   2.741219  {'was_impossible': False}   \n",
       "24999     490      736     3.0   3.353938  {'was_impossible': False}   \n",
       "25000     490       95     4.0   3.283774  {'was_impossible': False}   \n",
       "\n",
       "          error  cluster  \n",
       "0      0.736573        0  \n",
       "1      0.708320        4  \n",
       "2      0.997310        4  \n",
       "3      0.082504        0  \n",
       "4      0.780132        3  \n",
       "...         ...      ...  \n",
       "24996  1.092756        3  \n",
       "24997  0.853032        3  \n",
       "24998  0.258781        2  \n",
       "24999  0.353938        1  \n",
       "25000  0.716226        3  \n",
       "\n",
       "[25001 rows x 7 columns]"
      ]
     },
     "execution_count": 45,
     "metadata": {},
     "output_type": "execute_result"
    }
   ],
   "source": [
    "# Use k-means or other clustering algorithms on the predicted ratings\n",
    "from sklearn.cluster import KMeans\n",
    "kmeans = KMeans(n_clusters=5).fit(predictions_df[['predicted']])\n",
    "predictions_df['cluster'] = kmeans.labels_\n",
    "predictions_df"
   ]
  },
  {
   "cell_type": "markdown",
   "id": "47ae1a5f",
   "metadata": {},
   "source": [
    "### 5.3 Weighted Rating"
   ]
  },
  {
   "cell_type": "markdown",
   "id": "858ba4da",
   "metadata": {},
   "source": [
    "In this section, we calculate a weighted rating for each movie in the dataset. The steps are as follows:\n",
    "\n",
    "1. **Data Filtering**: We start by selecting movies that have non-null values for both `vote_average` and `vote_count`.\n",
    "   \n",
    "2. **Rating Metrics**: We define the following variables to use in the formula:\n",
    "    - \\( R \\): Average rating for the movie\n",
    "    - \\( v \\): Number of votes for the movie\n",
    "    - \\( m \\): Minimum votes required (90th percentile)\n",
    "    - \\( C \\): The mean vote across the entire dataset\n",
    "\n",
    "3. **Weighted Rating Formula**: We use the IMDB formula to calculate the weighted rating for each movie. \n",
    "    $$\n",
    "    \\text{Weighted Rating} = \\frac{{R \\times v + C \\times m}}{{v + m}}\n",
    "    $$\n",
    "   \n",
    "4. **Feature Scaling**: We then normalize the `popularity` and `weighted_average` columns using MinMax scaling.\n",
    "\n",
    "5. **Calculate Score**: A score is calculated for each movie as a weighted sum of the normalized `weighted_average` and `popularity`. Specifically, it's 40% `weighted_average` and 60% `popularity`.\n",
    "\n",
    "6. **Sort and Display**: Finally, we sort the movies based on this score in descending order to get a list of top-rated and popular movies.\n"
   ]
  },
  {
   "cell_type": "code",
   "execution_count": 46,
   "id": "256f00d3",
   "metadata": {},
   "outputs": [
    {
     "data": {
      "text/html": [
       "<div>\n",
       "<style scoped>\n",
       "    .dataframe tbody tr th:only-of-type {\n",
       "        vertical-align: middle;\n",
       "    }\n",
       "\n",
       "    .dataframe tbody tr th {\n",
       "        vertical-align: top;\n",
       "    }\n",
       "\n",
       "    .dataframe thead th {\n",
       "        text-align: right;\n",
       "    }\n",
       "</style>\n",
       "<table border=\"1\" class=\"dataframe\">\n",
       "  <thead>\n",
       "    <tr style=\"text-align: right;\">\n",
       "      <th></th>\n",
       "      <th>popularity</th>\n",
       "      <th>weighted_average</th>\n",
       "      <th>score</th>\n",
       "    </tr>\n",
       "    <tr>\n",
       "      <th>id</th>\n",
       "      <th></th>\n",
       "      <th></th>\n",
       "      <th></th>\n",
       "    </tr>\n",
       "  </thead>\n",
       "  <tbody>\n",
       "    <tr>\n",
       "      <th>211672</th>\n",
       "      <td>1.000000</td>\n",
       "      <td>0.572977</td>\n",
       "      <td>0.829191</td>\n",
       "    </tr>\n",
       "    <tr>\n",
       "      <th>297762</th>\n",
       "      <td>0.537613</td>\n",
       "      <td>0.733089</td>\n",
       "      <td>0.615804</td>\n",
       "    </tr>\n",
       "    <tr>\n",
       "      <th>177572</th>\n",
       "      <td>0.390602</td>\n",
       "      <td>0.855679</td>\n",
       "      <td>0.576633</td>\n",
       "    </tr>\n",
       "    <tr>\n",
       "      <th>321612</th>\n",
       "      <td>0.524675</td>\n",
       "      <td>0.653846</td>\n",
       "      <td>0.576344</td>\n",
       "    </tr>\n",
       "    <tr>\n",
       "      <th>680</th>\n",
       "      <td>0.257449</td>\n",
       "      <td>0.959911</td>\n",
       "      <td>0.538434</td>\n",
       "    </tr>\n",
       "    <tr>\n",
       "      <th>339403</th>\n",
       "      <td>0.416507</td>\n",
       "      <td>0.719899</td>\n",
       "      <td>0.537864</td>\n",
       "    </tr>\n",
       "    <tr>\n",
       "      <th>283995</th>\n",
       "      <td>0.338511</td>\n",
       "      <td>0.812576</td>\n",
       "      <td>0.528137</td>\n",
       "    </tr>\n",
       "    <tr>\n",
       "      <th>155</th>\n",
       "      <td>0.224968</td>\n",
       "      <td>0.962827</td>\n",
       "      <td>0.520112</td>\n",
       "    </tr>\n",
       "    <tr>\n",
       "      <th>210577</th>\n",
       "      <td>0.282748</td>\n",
       "      <td>0.875278</td>\n",
       "      <td>0.519760</td>\n",
       "    </tr>\n",
       "    <tr>\n",
       "      <th>293660</th>\n",
       "      <td>0.343132</td>\n",
       "      <td>0.779322</td>\n",
       "      <td>0.517608</td>\n",
       "    </tr>\n",
       "  </tbody>\n",
       "</table>\n",
       "</div>"
      ],
      "text/plain": [
       "        popularity  weighted_average     score\n",
       "id                                            \n",
       "211672    1.000000          0.572977  0.829191\n",
       "297762    0.537613          0.733089  0.615804\n",
       "177572    0.390602          0.855679  0.576633\n",
       "321612    0.524675          0.653846  0.576344\n",
       "680       0.257449          0.959911  0.538434\n",
       "339403    0.416507          0.719899  0.537864\n",
       "283995    0.338511          0.812576  0.528137\n",
       "155       0.224968          0.962827  0.520112\n",
       "210577    0.282748          0.875278  0.519760\n",
       "293660    0.343132          0.779322  0.517608"
      ]
     },
     "execution_count": 46,
     "metadata": {},
     "output_type": "execute_result"
    }
   ],
   "source": [
    "movies_df = movies_df[(movies_df['vote_average'].notnull())|(movies_df['vote_count'].notnull())]\n",
    "# Calculate R as the vote average for each movie\n",
    "R = movies_df['vote_average']\n",
    "\n",
    "# Calculate v as the vote count for each movie\n",
    "v = movies_df['vote_count']\n",
    "\n",
    "# Calculate m as the 90th percentile of vote count across all movies\n",
    "m = movies_df['vote_count'].quantile(0.9)\n",
    "\n",
    "# Calculate C as the mean vote average across all movies\n",
    "C = movies_df['vote_average'].mean()\n",
    "\n",
    "# Calculate the weighted average for each movie using the IMDB formula\n",
    "# This formula helps to balance the average rating (R) with the overall average (C)\n",
    "# It also considers the number of votes (v) and a minimum vote threshold (m)\n",
    "movies_df['weighted_average'] = (R * v + C * m) / (v + m)\n",
    "\n",
    "# Initialize the MinMaxScaler\n",
    "scaler = MinMaxScaler()\n",
    "\n",
    "# Fit and transform the 'popularity' and 'weighted_average' columns to scale them between 0 and 1\n",
    "scaled = scaler.fit_transform(movies_df[['popularity', 'weighted_average']])\n",
    "\n",
    "# Create a DataFrame from the scaled data\n",
    "weighted_df = pd.DataFrame(scaled, columns=['popularity', 'weighted_average'])\n",
    "\n",
    "# Set the index of the new DataFrame to match the 'original_title' of the movies\n",
    "weighted_df.index = movies_df['id']\n",
    "\n",
    "# Calculate the 'score' based on 40% weighted average and 60% popularity\n",
    "weighted_df['score'] = weighted_df['weighted_average'] * 0.4 + weighted_df['popularity'] * 0.6\n",
    "\n",
    "# Sort the DataFrame based on the 'score' column in descending order.\n",
    "# This will bring movies with the highest blended score of weighted average and popularity to the top.\n",
    "weighted_df_sorted = weighted_df.sort_values(by='score', ascending=False)\n",
    "\n",
    "# Display the top 10 movies with the highest scores.\n",
    "# These are the movies that are both well-rated and popular, according to our metrics.\n",
    "weighted_df_sorted.head(10)\n"
   ]
  },
  {
   "cell_type": "markdown",
   "id": "83026e67",
   "metadata": {},
   "source": [
    "### 5.4 Content Based Filtering"
   ]
  },
  {
   "cell_type": "code",
   "execution_count": 47,
   "id": "7f017107",
   "metadata": {},
   "outputs": [],
   "source": [
    "count = CountVectorizer(stop_words='english')\n",
    "count_matrix = count.fit_transform(movies_df['bag_of_words'])"
   ]
  },
  {
   "cell_type": "code",
   "execution_count": 48,
   "id": "f208a23d",
   "metadata": {},
   "outputs": [],
   "source": [
    "cosine_sim2 = cosine_similarity(count_matrix, count_matrix)"
   ]
  },
  {
   "cell_type": "code",
   "execution_count": 49,
   "id": "673e7776",
   "metadata": {},
   "outputs": [],
   "source": [
    "movies_df = movies_df.reset_index()\n",
    "indices = pd.Series(movies_df.index, index=movies_df['title'])"
   ]
  },
  {
   "cell_type": "code",
   "execution_count": 50,
   "id": "d9de3092",
   "metadata": {},
   "outputs": [],
   "source": [
    "# Function that takes in movie title as input and outputs most similar movies\n",
    "def get_recommendations(title, cosine_sim):\n",
    "    # Get the index of the movie that matches the title\n",
    "    idx = indices[title]\n",
    "\n",
    "    # Get the pairwsie similarity scores of all movies with that movie\n",
    "    sim_scores = list(enumerate(cosine_sim[idx]))\n",
    "\n",
    "    # Sort the movies based on the similarity scores\n",
    "    sim_scores = sorted(sim_scores, key=lambda x: x[1], reverse=True)\n",
    "\n",
    "    # Get the scores of the 10 most similar movies\n",
    "    sim_scores = sim_scores[1:11]\n",
    "\n",
    "    # Get the movie indices\n",
    "    movie_indices = [i[0] for i in sim_scores]\n",
    "\n",
    "    # Return the top 10 most similar movies\n",
    "    return movies_df['title'].iloc[movie_indices]"
   ]
  },
  {
   "cell_type": "code",
   "execution_count": 51,
   "id": "1de682f7",
   "metadata": {},
   "outputs": [
    {
     "data": {
      "text/plain": [
       "12502      The Dark Knight\n",
       "10135        Batman Begins\n",
       "9239                Shiner\n",
       "9800       Amongst Friends\n",
       "7703              Mitchell\n",
       "514      Romeo Is Bleeding\n",
       "11374         The Prestige\n",
       "23818            Quicksand\n",
       "24749             Deadfall\n",
       "40222                 Sara\n",
       "Name: title, dtype: object"
      ]
     },
     "execution_count": 51,
     "metadata": {},
     "output_type": "execute_result"
    }
   ],
   "source": [
    "get_recommendations('The Dark Knight Rises', cosine_sim2)"
   ]
  },
  {
   "cell_type": "code",
   "execution_count": 52,
   "id": "ac68f074",
   "metadata": {
    "scrolled": true
   },
   "outputs": [
    {
     "data": {
      "text/plain": [
       "1908            The Godfather: Part III\n",
       "1171             The Godfather: Part II\n",
       "15460                   The Rain People\n",
       "18737                         Last Exit\n",
       "33925                              Rege\n",
       "35184            Manuscripts Don't Burn\n",
       "35185            Manuscripts Don't Burn\n",
       "7932     The Night of the Following Day\n",
       "18068                 The Son of No One\n",
       "28320            In the Name of the Law\n",
       "Name: title, dtype: object"
      ]
     },
     "execution_count": 52,
     "metadata": {},
     "output_type": "execute_result"
    }
   ],
   "source": [
    "get_recommendations('The Godfather', cosine_sim2)"
   ]
  },
  {
   "cell_type": "code",
   "execution_count": 53,
   "id": "dbee76a4",
   "metadata": {},
   "outputs": [
    {
     "data": {
      "text/plain": [
       "1147                          The Empire Strikes Back\n",
       "1160                               Return of the Jedi\n",
       "22630                              Behind Enemy Lines\n",
       "675                                              Solo\n",
       "2506        Star Wars: Episode I - The Phantom Menace\n",
       "5243     Star Wars: Episode II - Attack of the Clones\n",
       "7913                             The Last Starfighter\n",
       "10082    Star Wars: Episode III - Revenge of the Sith\n",
       "21873                                    Ender's Game\n",
       "26437                    Star Wars: The Force Awakens\n",
       "Name: title, dtype: object"
      ]
     },
     "execution_count": 53,
     "metadata": {},
     "output_type": "execute_result"
    }
   ],
   "source": [
    "get_recommendations('Star Wars', cosine_sim2)"
   ]
  },
  {
   "cell_type": "code",
   "execution_count": 54,
   "id": "a1b3cc0a",
   "metadata": {},
   "outputs": [
    {
     "data": {
      "text/plain": [
       "2992                            Toy Story 2\n",
       "15371                           Toy Story 3\n",
       "25688            Toy Story That Time Forgot\n",
       "21879                  Toy Story of Terror!\n",
       "3304                      Creature Comforts\n",
       "25686                       Partysaurus Rex\n",
       "27272                                 Anina\n",
       "42160         Dexter's Laboratory: Ego Trip\n",
       "27659                         Radiopiratene\n",
       "40064    VeggieTales: Josh and the Big Wall\n",
       "Name: title, dtype: object"
      ]
     },
     "execution_count": 54,
     "metadata": {},
     "output_type": "execute_result"
    }
   ],
   "source": [
    "get_recommendations('Toy Story', cosine_sim2)"
   ]
  },
  {
   "cell_type": "markdown",
   "id": "efd2ccb2",
   "metadata": {},
   "source": [
    "### Hybrid Based Recommendation\n",
    "Movie Recommender System based on Content & Collaborative Filtering and Weighted Score to consider additional factors like popularity or the weighted average rating of a movie. The data score that we already get before can be using a mix of weighted average and popularity, which can be incorporated into the hybrid model to make the recommendations more robust."
   ]
  },
  {
   "cell_type": "code",
   "execution_count": 55,
   "id": "92eca512",
   "metadata": {},
   "outputs": [],
   "source": [
    "def hybrid_predicted_rating(userId, movieId):\n",
    "    # Collaborative Filtering Prediction\n",
    "    collaborative_rating = algo.predict(userId, movieId).est\n",
    "    \n",
    "    # Content-Based Filtering Prediction\n",
    "    sim_scores = list(enumerate(cosine_sim2[movieId]))\n",
    "    sim_scores = sorted(cosine_sim2, key=lambda x: x[1], reverse=True)\n",
    "    sim_scores = sim_scores[1:11]  # Top 10 similar movies\n",
    "    movie_indices = [i[0] for i in sim_scores]\n",
    "    \n",
    "    similar_movies = movies_df.iloc[movie_indices]\n",
    "    similar_movies['est'] = similar_movies['id'].apply(lambda x: algo.predict(userId, x).est)\n",
    "    content_rating = similar_movies['est'].mean()\n",
    "    \n",
    "    # Getting the Weighted Score\n",
    "    weighted_score = weighted_df.loc[movies_df.loc[movieId, 'title'], 'score']\n",
    "    \n",
    "    # Hybrid Prediction using weighted average of collaborative_rating, content_rating, and weighted_score\n",
    "    final_rating = (0.5 * collaborative_rating) + (0.2 * content_rating) + (0.3 * weighted_score)\n",
    "    \n",
    "    return final_rating"
   ]
  },
  {
   "cell_type": "code",
   "execution_count": 56,
   "id": "07194dbb",
   "metadata": {},
   "outputs": [
    {
     "name": "stderr",
     "output_type": "stream",
     "text": [
      "C:\\Users\\bmurdyantoro\\AppData\\Local\\Temp\\ipykernel_5076\\2652381841.py:12: SettingWithCopyWarning: \n",
      "A value is trying to be set on a copy of a slice from a DataFrame.\n",
      "Try using .loc[row_indexer,col_indexer] = value instead\n",
      "\n",
      "See the caveats in the documentation: https://pandas.pydata.org/pandas-docs/stable/user_guide/indexing.html#returning-a-view-versus-a-copy\n",
      "  similar_movies['est'] = similar_movies['id'].apply(lambda x: algo.predict(userId, x).est)\n"
     ]
    },
    {
     "ename": "KeyError",
     "evalue": "'A Perfect World'",
     "output_type": "error",
     "traceback": [
      "\u001b[1;31m---------------------------------------------------------------------------\u001b[0m",
      "\u001b[1;31mKeyError\u001b[0m                                  Traceback (most recent call last)",
      "File \u001b[1;32m~\\AppData\\Local\\anaconda3\\Lib\\site-packages\\pandas\\core\\indexes\\base.py:3802\u001b[0m, in \u001b[0;36mIndex.get_loc\u001b[1;34m(self, key, method, tolerance)\u001b[0m\n\u001b[0;32m   3801\u001b[0m \u001b[38;5;28;01mtry\u001b[39;00m:\n\u001b[1;32m-> 3802\u001b[0m     \u001b[38;5;28;01mreturn\u001b[39;00m \u001b[38;5;28mself\u001b[39m\u001b[38;5;241m.\u001b[39m_engine\u001b[38;5;241m.\u001b[39mget_loc(casted_key)\n\u001b[0;32m   3803\u001b[0m \u001b[38;5;28;01mexcept\u001b[39;00m \u001b[38;5;167;01mKeyError\u001b[39;00m \u001b[38;5;28;01mas\u001b[39;00m err:\n",
      "File \u001b[1;32m~\\AppData\\Local\\anaconda3\\Lib\\site-packages\\pandas\\_libs\\index.pyx:138\u001b[0m, in \u001b[0;36mpandas._libs.index.IndexEngine.get_loc\u001b[1;34m()\u001b[0m\n",
      "File \u001b[1;32m~\\AppData\\Local\\anaconda3\\Lib\\site-packages\\pandas\\_libs\\index.pyx:146\u001b[0m, in \u001b[0;36mpandas._libs.index.IndexEngine.get_loc\u001b[1;34m()\u001b[0m\n",
      "File \u001b[1;32mpandas\\_libs\\index_class_helper.pxi:49\u001b[0m, in \u001b[0;36mpandas._libs.index.Int64Engine._check_type\u001b[1;34m()\u001b[0m\n",
      "\u001b[1;31mKeyError\u001b[0m: 'A Perfect World'",
      "\nThe above exception was the direct cause of the following exception:\n",
      "\u001b[1;31mKeyError\u001b[0m                                  Traceback (most recent call last)",
      "Cell \u001b[1;32mIn[56], line 2\u001b[0m\n\u001b[0;32m      1\u001b[0m \u001b[38;5;66;03m# Predict the rating for userId=1 and movieId=500\u001b[39;00m\n\u001b[1;32m----> 2\u001b[0m predicted_rating \u001b[38;5;241m=\u001b[39m hybrid_predicted_rating(userId\u001b[38;5;241m=\u001b[39m\u001b[38;5;241m1\u001b[39m, movieId\u001b[38;5;241m=\u001b[39m\u001b[38;5;241m500\u001b[39m)\n\u001b[0;32m      3\u001b[0m \u001b[38;5;28mprint\u001b[39m(\u001b[38;5;124mf\u001b[39m\u001b[38;5;124m\"\u001b[39m\u001b[38;5;124mThe predicted hybrid rating for userId=1 and movieId=500 is: \u001b[39m\u001b[38;5;132;01m{\u001b[39;00mpredicted_rating\u001b[38;5;132;01m}\u001b[39;00m\u001b[38;5;124m\"\u001b[39m)\n",
      "Cell \u001b[1;32mIn[55], line 16\u001b[0m, in \u001b[0;36mhybrid_predicted_rating\u001b[1;34m(userId, movieId)\u001b[0m\n\u001b[0;32m     13\u001b[0m content_rating \u001b[38;5;241m=\u001b[39m similar_movies[\u001b[38;5;124m'\u001b[39m\u001b[38;5;124mest\u001b[39m\u001b[38;5;124m'\u001b[39m]\u001b[38;5;241m.\u001b[39mmean()\n\u001b[0;32m     15\u001b[0m \u001b[38;5;66;03m# Getting the Weighted Score\u001b[39;00m\n\u001b[1;32m---> 16\u001b[0m weighted_score \u001b[38;5;241m=\u001b[39m weighted_df\u001b[38;5;241m.\u001b[39mloc[movies_df\u001b[38;5;241m.\u001b[39mloc[movieId, \u001b[38;5;124m'\u001b[39m\u001b[38;5;124mtitle\u001b[39m\u001b[38;5;124m'\u001b[39m], \u001b[38;5;124m'\u001b[39m\u001b[38;5;124mscore\u001b[39m\u001b[38;5;124m'\u001b[39m]\n\u001b[0;32m     18\u001b[0m \u001b[38;5;66;03m# Hybrid Prediction using weighted average of collaborative_rating, content_rating, and weighted_score\u001b[39;00m\n\u001b[0;32m     19\u001b[0m final_rating \u001b[38;5;241m=\u001b[39m (\u001b[38;5;241m0.5\u001b[39m \u001b[38;5;241m*\u001b[39m collaborative_rating) \u001b[38;5;241m+\u001b[39m (\u001b[38;5;241m0.2\u001b[39m \u001b[38;5;241m*\u001b[39m content_rating) \u001b[38;5;241m+\u001b[39m (\u001b[38;5;241m0.3\u001b[39m \u001b[38;5;241m*\u001b[39m weighted_score)\n",
      "File \u001b[1;32m~\\AppData\\Local\\anaconda3\\Lib\\site-packages\\pandas\\core\\indexing.py:1067\u001b[0m, in \u001b[0;36m_LocationIndexer.__getitem__\u001b[1;34m(self, key)\u001b[0m\n\u001b[0;32m   1065\u001b[0m     \u001b[38;5;28;01mif\u001b[39;00m \u001b[38;5;28mself\u001b[39m\u001b[38;5;241m.\u001b[39m_is_scalar_access(key):\n\u001b[0;32m   1066\u001b[0m         \u001b[38;5;28;01mreturn\u001b[39;00m \u001b[38;5;28mself\u001b[39m\u001b[38;5;241m.\u001b[39mobj\u001b[38;5;241m.\u001b[39m_get_value(\u001b[38;5;241m*\u001b[39mkey, takeable\u001b[38;5;241m=\u001b[39m\u001b[38;5;28mself\u001b[39m\u001b[38;5;241m.\u001b[39m_takeable)\n\u001b[1;32m-> 1067\u001b[0m     \u001b[38;5;28;01mreturn\u001b[39;00m \u001b[38;5;28mself\u001b[39m\u001b[38;5;241m.\u001b[39m_getitem_tuple(key)\n\u001b[0;32m   1068\u001b[0m \u001b[38;5;28;01melse\u001b[39;00m:\n\u001b[0;32m   1069\u001b[0m     \u001b[38;5;66;03m# we by definition only have the 0th axis\u001b[39;00m\n\u001b[0;32m   1070\u001b[0m     axis \u001b[38;5;241m=\u001b[39m \u001b[38;5;28mself\u001b[39m\u001b[38;5;241m.\u001b[39maxis \u001b[38;5;129;01mor\u001b[39;00m \u001b[38;5;241m0\u001b[39m\n",
      "File \u001b[1;32m~\\AppData\\Local\\anaconda3\\Lib\\site-packages\\pandas\\core\\indexing.py:1247\u001b[0m, in \u001b[0;36m_LocIndexer._getitem_tuple\u001b[1;34m(self, tup)\u001b[0m\n\u001b[0;32m   1245\u001b[0m \u001b[38;5;28;01mwith\u001b[39;00m suppress(IndexingError):\n\u001b[0;32m   1246\u001b[0m     tup \u001b[38;5;241m=\u001b[39m \u001b[38;5;28mself\u001b[39m\u001b[38;5;241m.\u001b[39m_expand_ellipsis(tup)\n\u001b[1;32m-> 1247\u001b[0m     \u001b[38;5;28;01mreturn\u001b[39;00m \u001b[38;5;28mself\u001b[39m\u001b[38;5;241m.\u001b[39m_getitem_lowerdim(tup)\n\u001b[0;32m   1249\u001b[0m \u001b[38;5;66;03m# no multi-index, so validate all of the indexers\u001b[39;00m\n\u001b[0;32m   1250\u001b[0m tup \u001b[38;5;241m=\u001b[39m \u001b[38;5;28mself\u001b[39m\u001b[38;5;241m.\u001b[39m_validate_tuple_indexer(tup)\n",
      "File \u001b[1;32m~\\AppData\\Local\\anaconda3\\Lib\\site-packages\\pandas\\core\\indexing.py:967\u001b[0m, in \u001b[0;36m_LocationIndexer._getitem_lowerdim\u001b[1;34m(self, tup)\u001b[0m\n\u001b[0;32m    963\u001b[0m \u001b[38;5;28;01mfor\u001b[39;00m i, key \u001b[38;5;129;01min\u001b[39;00m \u001b[38;5;28menumerate\u001b[39m(tup):\n\u001b[0;32m    964\u001b[0m     \u001b[38;5;28;01mif\u001b[39;00m is_label_like(key):\n\u001b[0;32m    965\u001b[0m         \u001b[38;5;66;03m# We don't need to check for tuples here because those are\u001b[39;00m\n\u001b[0;32m    966\u001b[0m         \u001b[38;5;66;03m#  caught by the _is_nested_tuple_indexer check above.\u001b[39;00m\n\u001b[1;32m--> 967\u001b[0m         section \u001b[38;5;241m=\u001b[39m \u001b[38;5;28mself\u001b[39m\u001b[38;5;241m.\u001b[39m_getitem_axis(key, axis\u001b[38;5;241m=\u001b[39mi)\n\u001b[0;32m    969\u001b[0m         \u001b[38;5;66;03m# We should never have a scalar section here, because\u001b[39;00m\n\u001b[0;32m    970\u001b[0m         \u001b[38;5;66;03m#  _getitem_lowerdim is only called after a check for\u001b[39;00m\n\u001b[0;32m    971\u001b[0m         \u001b[38;5;66;03m#  is_scalar_access, which that would be.\u001b[39;00m\n\u001b[0;32m    972\u001b[0m         \u001b[38;5;28;01mif\u001b[39;00m section\u001b[38;5;241m.\u001b[39mndim \u001b[38;5;241m==\u001b[39m \u001b[38;5;28mself\u001b[39m\u001b[38;5;241m.\u001b[39mndim:\n\u001b[0;32m    973\u001b[0m             \u001b[38;5;66;03m# we're in the middle of slicing through a MultiIndex\u001b[39;00m\n\u001b[0;32m    974\u001b[0m             \u001b[38;5;66;03m# revise the key wrt to `section` by inserting an _NS\u001b[39;00m\n",
      "File \u001b[1;32m~\\AppData\\Local\\anaconda3\\Lib\\site-packages\\pandas\\core\\indexing.py:1312\u001b[0m, in \u001b[0;36m_LocIndexer._getitem_axis\u001b[1;34m(self, key, axis)\u001b[0m\n\u001b[0;32m   1310\u001b[0m \u001b[38;5;66;03m# fall thru to straight lookup\u001b[39;00m\n\u001b[0;32m   1311\u001b[0m \u001b[38;5;28mself\u001b[39m\u001b[38;5;241m.\u001b[39m_validate_key(key, axis)\n\u001b[1;32m-> 1312\u001b[0m \u001b[38;5;28;01mreturn\u001b[39;00m \u001b[38;5;28mself\u001b[39m\u001b[38;5;241m.\u001b[39m_get_label(key, axis\u001b[38;5;241m=\u001b[39maxis)\n",
      "File \u001b[1;32m~\\AppData\\Local\\anaconda3\\Lib\\site-packages\\pandas\\core\\indexing.py:1260\u001b[0m, in \u001b[0;36m_LocIndexer._get_label\u001b[1;34m(self, label, axis)\u001b[0m\n\u001b[0;32m   1258\u001b[0m \u001b[38;5;28;01mdef\u001b[39;00m \u001b[38;5;21m_get_label\u001b[39m(\u001b[38;5;28mself\u001b[39m, label, axis: \u001b[38;5;28mint\u001b[39m):\n\u001b[0;32m   1259\u001b[0m     \u001b[38;5;66;03m# GH#5567 this will fail if the label is not present in the axis.\u001b[39;00m\n\u001b[1;32m-> 1260\u001b[0m     \u001b[38;5;28;01mreturn\u001b[39;00m \u001b[38;5;28mself\u001b[39m\u001b[38;5;241m.\u001b[39mobj\u001b[38;5;241m.\u001b[39mxs(label, axis\u001b[38;5;241m=\u001b[39maxis)\n",
      "File \u001b[1;32m~\\AppData\\Local\\anaconda3\\Lib\\site-packages\\pandas\\core\\generic.py:4056\u001b[0m, in \u001b[0;36mNDFrame.xs\u001b[1;34m(self, key, axis, level, drop_level)\u001b[0m\n\u001b[0;32m   4054\u001b[0m             new_index \u001b[38;5;241m=\u001b[39m index[loc]\n\u001b[0;32m   4055\u001b[0m \u001b[38;5;28;01melse\u001b[39;00m:\n\u001b[1;32m-> 4056\u001b[0m     loc \u001b[38;5;241m=\u001b[39m index\u001b[38;5;241m.\u001b[39mget_loc(key)\n\u001b[0;32m   4058\u001b[0m     \u001b[38;5;28;01mif\u001b[39;00m \u001b[38;5;28misinstance\u001b[39m(loc, np\u001b[38;5;241m.\u001b[39mndarray):\n\u001b[0;32m   4059\u001b[0m         \u001b[38;5;28;01mif\u001b[39;00m loc\u001b[38;5;241m.\u001b[39mdtype \u001b[38;5;241m==\u001b[39m np\u001b[38;5;241m.\u001b[39mbool_:\n",
      "File \u001b[1;32m~\\AppData\\Local\\anaconda3\\Lib\\site-packages\\pandas\\core\\indexes\\base.py:3804\u001b[0m, in \u001b[0;36mIndex.get_loc\u001b[1;34m(self, key, method, tolerance)\u001b[0m\n\u001b[0;32m   3802\u001b[0m     \u001b[38;5;28;01mreturn\u001b[39;00m \u001b[38;5;28mself\u001b[39m\u001b[38;5;241m.\u001b[39m_engine\u001b[38;5;241m.\u001b[39mget_loc(casted_key)\n\u001b[0;32m   3803\u001b[0m \u001b[38;5;28;01mexcept\u001b[39;00m \u001b[38;5;167;01mKeyError\u001b[39;00m \u001b[38;5;28;01mas\u001b[39;00m err:\n\u001b[1;32m-> 3804\u001b[0m     \u001b[38;5;28;01mraise\u001b[39;00m \u001b[38;5;167;01mKeyError\u001b[39;00m(key) \u001b[38;5;28;01mfrom\u001b[39;00m \u001b[38;5;21;01merr\u001b[39;00m\n\u001b[0;32m   3805\u001b[0m \u001b[38;5;28;01mexcept\u001b[39;00m \u001b[38;5;167;01mTypeError\u001b[39;00m:\n\u001b[0;32m   3806\u001b[0m     \u001b[38;5;66;03m# If we have a listlike key, _check_indexing_error will raise\u001b[39;00m\n\u001b[0;32m   3807\u001b[0m     \u001b[38;5;66;03m#  InvalidIndexError. Otherwise we fall through and re-raise\u001b[39;00m\n\u001b[0;32m   3808\u001b[0m     \u001b[38;5;66;03m#  the TypeError.\u001b[39;00m\n\u001b[0;32m   3809\u001b[0m     \u001b[38;5;28mself\u001b[39m\u001b[38;5;241m.\u001b[39m_check_indexing_error(key)\n",
      "\u001b[1;31mKeyError\u001b[0m: 'A Perfect World'"
     ]
    }
   ],
   "source": [
    "# Predict the rating for userId=1 and movieId=500\n",
    "predicted_rating = hybrid_predicted_rating(userId=1, movieId=500)\n",
    "print(f\"The predicted hybrid rating for userId=1 and movieId=500 is: {predicted_rating}\")"
   ]
  },
  {
   "cell_type": "code",
   "execution_count": null,
   "id": "577d8f07",
   "metadata": {},
   "outputs": [],
   "source": [
    "ratings_df[ratings_df['userId']==5]"
   ]
  },
  {
   "cell_type": "code",
   "execution_count": null,
   "id": "99196008",
   "metadata": {},
   "outputs": [],
   "source": [
    "weighted_df"
   ]
  },
  {
   "cell_type": "code",
   "execution_count": 353,
   "id": "bbd0b3ed",
   "metadata": {},
   "outputs": [
    {
     "name": "stdout",
     "output_type": "stream",
     "text": [
      "{1276: 0.0, 1204: 0.0, 111: 0.1828499605405242, 1250: 0.07419384538223182, 2692: 0.0, 2019: 0.09980710947163667, 903: 0.14960896450810907, 1259: 0.11992585706645784, 7361: 0.0, 2571: 0.0, 57046: 0.08451348450896896, 84465: 0.08428618129729974, 242551: id\n",
      "242551    0.083557\n",
      "242551    0.083557\n",
      "Name: score, dtype: float64, 15534: 0.09796953323712183, 39450: 0.08504502864067164, 168055: 0.09286363488060362, 406042: 0.08625298365332396, 390059: 0.08298581376126218, 52345: 0.10420144341581597}\n"
     ]
    },
    {
     "ename": "ValueError",
     "evalue": "The truth value of a Series is ambiguous. Use a.empty, a.bool(), a.item(), a.any() or a.all().",
     "output_type": "error",
     "traceback": [
      "\u001b[1;31m---------------------------------------------------------------------------\u001b[0m",
      "\u001b[1;31mValueError\u001b[0m                                Traceback (most recent call last)",
      "Cell \u001b[1;32mIn[353], line 53\u001b[0m\n\u001b[0;32m     51\u001b[0m \u001b[38;5;66;03m# Test the hybrid recommendation function\u001b[39;00m\n\u001b[0;32m     52\u001b[0m user_id \u001b[38;5;241m=\u001b[39m \u001b[38;5;241m6\u001b[39m\n\u001b[1;32m---> 53\u001b[0m recommended_movies \u001b[38;5;241m=\u001b[39m hybrid_recommendation(user_id)\n\u001b[0;32m     54\u001b[0m \u001b[38;5;28mprint\u001b[39m(\u001b[38;5;124mf\u001b[39m\u001b[38;5;124m\"\u001b[39m\u001b[38;5;124mRecommended movies for user \u001b[39m\u001b[38;5;132;01m{\u001b[39;00muser_id\u001b[38;5;132;01m}\u001b[39;00m\u001b[38;5;124m: \u001b[39m\u001b[38;5;132;01m{\u001b[39;00mrecommended_movies\u001b[38;5;132;01m}\u001b[39;00m\u001b[38;5;124m\"\u001b[39m)\n\u001b[0;32m     55\u001b[0m show_movie_details(recommended_movies, movies_df)\n",
      "Cell \u001b[1;32mIn[353], line 48\u001b[0m, in \u001b[0;36mhybrid_recommendation\u001b[1;34m(user_id, n)\u001b[0m\n\u001b[0;32m     46\u001b[0m     combined_scores[movie_id] \u001b[38;5;241m=\u001b[39m combined_scores\u001b[38;5;241m.\u001b[39mget(movie_id, \u001b[38;5;241m0\u001b[39m) \u001b[38;5;241m+\u001b[39m \u001b[38;5;241m0.5\u001b[39m \u001b[38;5;241m*\u001b[39m score\n\u001b[0;32m     47\u001b[0m \u001b[38;5;28mprint\u001b[39m(combined_scores)\n\u001b[1;32m---> 48\u001b[0m sorted_movies \u001b[38;5;241m=\u001b[39m \u001b[38;5;28msorted\u001b[39m(combined_scores\u001b[38;5;241m.\u001b[39mkeys(), key\u001b[38;5;241m=\u001b[39m\u001b[38;5;28;01mlambda\u001b[39;00m x: combined_scores[x], reverse\u001b[38;5;241m=\u001b[39m\u001b[38;5;28;01mTrue\u001b[39;00m)\n\u001b[0;32m     49\u001b[0m \u001b[38;5;28;01mreturn\u001b[39;00m sorted_movies[:n]\n",
      "File \u001b[1;32m~\\AppData\\Local\\anaconda3\\Lib\\site-packages\\pandas\\core\\generic.py:1527\u001b[0m, in \u001b[0;36mNDFrame.__nonzero__\u001b[1;34m(self)\u001b[0m\n\u001b[0;32m   1525\u001b[0m \u001b[38;5;129m@final\u001b[39m\n\u001b[0;32m   1526\u001b[0m \u001b[38;5;28;01mdef\u001b[39;00m \u001b[38;5;21m__nonzero__\u001b[39m(\u001b[38;5;28mself\u001b[39m) \u001b[38;5;241m-\u001b[39m\u001b[38;5;241m>\u001b[39m NoReturn:\n\u001b[1;32m-> 1527\u001b[0m     \u001b[38;5;28;01mraise\u001b[39;00m \u001b[38;5;167;01mValueError\u001b[39;00m(\n\u001b[0;32m   1528\u001b[0m         \u001b[38;5;124mf\u001b[39m\u001b[38;5;124m\"\u001b[39m\u001b[38;5;124mThe truth value of a \u001b[39m\u001b[38;5;132;01m{\u001b[39;00m\u001b[38;5;28mtype\u001b[39m(\u001b[38;5;28mself\u001b[39m)\u001b[38;5;241m.\u001b[39m\u001b[38;5;18m__name__\u001b[39m\u001b[38;5;132;01m}\u001b[39;00m\u001b[38;5;124m is ambiguous. \u001b[39m\u001b[38;5;124m\"\u001b[39m\n\u001b[0;32m   1529\u001b[0m         \u001b[38;5;124m\"\u001b[39m\u001b[38;5;124mUse a.empty, a.bool(), a.item(), a.any() or a.all().\u001b[39m\u001b[38;5;124m\"\u001b[39m\n\u001b[0;32m   1530\u001b[0m     )\n",
      "\u001b[1;31mValueError\u001b[0m: The truth value of a Series is ambiguous. Use a.empty, a.bool(), a.item(), a.any() or a.all()."
     ]
    }
   ],
   "source": [
    "def fetch_weighted_scores(movie_ids, movies_df, weighted_df):\n",
    "    weighted_scores = {}\n",
    "    for movie_id in movie_ids:\n",
    "        if movie_id in weighted_df.index:\n",
    "            weighted_scores[movie_id] = weighted_df.loc[movie_id]['score']\n",
    "        else:\n",
    "            weighted_scores[movie_id] = 0  # Assign default score of 0\n",
    "    return weighted_scores\n",
    "\n",
    "\n",
    "# Utility function to show details of recommended movies\n",
    "def show_movie_details(movie_ids, movies_df):\n",
    "    # Fetch movie details like title, genre, and director from the movies_df DataFrame\n",
    "    details_df = movies_df[movies_df['id'].isin(movie_ids)][['title', 'genres', 'director']]\n",
    "    \n",
    "    # Display the details\n",
    "    print(\"Recommended Movies:\")\n",
    "    for index, row in details_df.iterrows():\n",
    "        print(f\"Title: {row['title']}, Genres: {', '.join(row['genres'])}, Director: {row['director']}\")\n",
    "\n",
    "def hybrid_recommendation(user_id, n=10):\n",
    "    user_ratings = ratings_df[ratings_df['userId'] == user_id]\n",
    "    predictions = []\n",
    "    for index, row in user_ratings.iterrows():\n",
    "        pred = algo.predict(row['userId'], row['movieId']).est\n",
    "        predictions.append((row['movieId'], pred))\n",
    "    top_collab_movies = [x[0] for x in sorted(predictions, key=lambda x: x[1], reverse=True)[:n]]\n",
    "    \n",
    "    last_watched_movieId = user_ratings.iloc[-1]['movieId']\n",
    "    if last_watched_movieId in movies_df['id'].values:\n",
    "        watched_movie_idx = movies_df[movies_df['id'] == last_watched_movieId].index[0]\n",
    "        similar_movies = list(enumerate(cosine_sim2[watched_movie_idx]))\n",
    "        sorted_similar_movies = sorted(similar_movies, key=lambda x: x[1], reverse=True)[1:n+1]\n",
    "        top_content_movies = [movies_df.iloc[i[0]]['id'] for i in sorted_similar_movies]\n",
    "    else:\n",
    "        print(f\"Movie ID {last_watched_movieId} not found in movies_df.\")\n",
    "        top_content_movies = []\n",
    "\n",
    "    collab_weighted_scores = fetch_weighted_scores(top_collab_movies, movies_df, weighted_df)\n",
    "    content_weighted_scores = fetch_weighted_scores(top_content_movies, movies_df, weighted_df)\n",
    "    \n",
    "    combined_scores = {}\n",
    "    for movie_id, score in collab_weighted_scores.items():\n",
    "        combined_scores[movie_id] = combined_scores.get(movie_id, 0) + 0.5 * score\n",
    "    for movie_id, score in content_weighted_scores.items():\n",
    "        combined_scores[movie_id] = combined_scores.get(movie_id, 0) + 0.5 * score\n",
    "    print(combined_scores)\n",
    "    sorted_movies = sorted(combined_scores.keys(), key=lambda x: combined_scores[x], reverse=True)\n",
    "    return sorted_movies[:n]\n",
    "\n",
    "# Test the hybrid recommendation function\n",
    "user_id = 6\n",
    "recommended_movies = hybrid_recommendation(user_id)\n",
    "print(f\"Recommended movies for user {user_id}: {recommended_movies}\")\n",
    "show_movie_details(recommended_movies, movies_df)"
   ]
  },
  {
   "cell_type": "code",
   "execution_count": null,
   "id": "80182487",
   "metadata": {},
   "outputs": [],
   "source": [
    "# 1. Get top 10 recommendations for a user\n",
    "user_id = 1\n",
    "top_movies = hybrid_recommendation(user_id, n=10)\n",
    "show_movie_details(top_movies)\n",
    "\n",
    "# 2. Find similar movies to a given movie (Content-based)\n",
    "movie_id = 500\n",
    "similar_movies = get_similar_movies(movie_id, n=10)  # Implement this function based on your content-based model\n",
    "show_movie_details(similar_movies)\n",
    "\n",
    "# 3. Get recommendations for a group of users (e.g., for an event)\n",
    "group_ids = [1, 2, 3, 4]\n",
    "group_recommendations = set()\n",
    "for user in group_ids:\n",
    "    group_recommendations.update(hybrid_recommendation(user, n=5))\n",
    "show_movie_details(group_recommendations)\n",
    "\n",
    "# 4. Cold start recommendations (e.g., for new users, you can rely more on content-based or popularity-based recommendations)\n",
    "new_user_recommendations = get_popular_movies(n=10)  # Implement this function based on your dataset to get popular movies\n",
    "show_movie_details(new_user_recommendations)\n",
    "\n",
    "# 5. Personalized promotional offers (e.g., recommend movies from a specific genre that the user is likely to enjoy)\n",
    "user_fav_genre = 'Action'  # Fetch this based on user history\n",
    "genre_recommendations = hybrid_recommendation_for_genre(user_id, user_fav_genre, n=5)  # Implement this function\n",
    "show_movie_details(genre_recommendations)\n"
   ]
  },
  {
   "cell_type": "code",
   "execution_count": null,
   "id": "af761123",
   "metadata": {},
   "outputs": [],
   "source": []
  },
  {
   "cell_type": "code",
   "execution_count": null,
   "id": "b111b75e",
   "metadata": {},
   "outputs": [],
   "source": []
  },
  {
   "cell_type": "code",
   "execution_count": null,
   "id": "eaf6b4bf",
   "metadata": {},
   "outputs": [],
   "source": [
    "#--------------------------------------------------------------------------------------------------#"
   ]
  }
 ],
 "metadata": {
  "kernelspec": {
   "display_name": "Python 3 (ipykernel)",
   "language": "python",
   "name": "python3"
  },
  "language_info": {
   "codemirror_mode": {
    "name": "ipython",
    "version": 3
   },
   "file_extension": ".py",
   "mimetype": "text/x-python",
   "name": "python",
   "nbconvert_exporter": "python",
   "pygments_lexer": "ipython3",
   "version": "3.11.3"
  }
 },
 "nbformat": 4,
 "nbformat_minor": 5
}
